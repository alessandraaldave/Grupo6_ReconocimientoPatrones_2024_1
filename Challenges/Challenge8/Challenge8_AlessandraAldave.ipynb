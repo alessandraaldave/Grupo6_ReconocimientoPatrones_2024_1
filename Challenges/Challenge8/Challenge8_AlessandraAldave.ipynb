{
  "cells": [
    {
      "cell_type": "markdown",
      "metadata": {
        "id": "vxnLo_oW3nls"
      },
      "source": [
        "## Importando librerías"
      ]
    },
    {
      "cell_type": "code",
      "execution_count": 1,
      "metadata": {
        "id": "vQIbRdmt3nl0"
      },
      "outputs": [],
      "source": [
        "import pandas as pd\n",
        "import numpy as np\n",
        "import os\n",
        "from glob import glob\n",
        "from tensorflow.keras.preprocessing.image import load_img, img_to_array\n",
        "from sklearn.model_selection import train_test_split\n",
        "import matplotlib.pyplot as plt"
      ]
    },
    {
      "cell_type": "markdown",
      "metadata": {
        "id": "TEL0A9SR3nl2"
      },
      "source": [
        "## Nuestro set de datos"
      ]
    },
    {
      "cell_type": "code",
      "execution_count": 5,
      "metadata": {
        "id": "JFEv9OQjX3Ey"
      },
      "outputs": [],
      "source": [
        "image_folder = r'C:\\Users\\Alessandra\\Downloads\\sample\\images'\n",
        "labels_file = r'C:\\Users\\Alessandra\\Downloads\\sample\\sample_labels.csv'"
      ]
    },
    {
      "cell_type": "code",
      "execution_count": null,
      "metadata": {},
      "outputs": [],
      "source": [
        "# Obtener las rutas de todas las imágenes en el folder\n",
        "image_paths = glob(os.path.join(image_folder, '*.png'))\n",
        "\n",
        "# Leer el archivo CSV\n",
        "labels_df = pd.read_csv(labels_file)\n",
        "\n",
        "# Crear listas para las imágenes y etiquetas\n",
        "images = []\n",
        "labels = []"
      ]
    },
    {
      "cell_type": "code",
      "execution_count": 6,
      "metadata": {
        "colab": {
          "base_uri": "https://localhost:8080/"
        },
        "id": "Fgi0FokMYa2g",
        "outputId": "cc747592-d61a-4a98-b6af-78dc763b9482"
      },
      "outputs": [
        {
          "name": "stdout",
          "output_type": "stream",
          "text": [
            "\n",
            "Informacion del dataset: 2_Extrapolation_to_All_Series.csv:\n",
            "<class 'pandas.core.frame.DataFrame'>\n",
            "RangeIndex: 39668 entries, 0 to 39667\n",
            "Data columns (total 7 columns):\n",
            " #   Column             Non-Null Count  Dtype \n",
            "---  ------             --------------  ----- \n",
            " 0   Unnamed: 0         39668 non-null  int64 \n",
            " 1   SOPInstanceUID     39668 non-null  object\n",
            " 2   SeriesInstanceUID  39668 non-null  object\n",
            " 3   StudyInstanceUID   39668 non-null  object\n",
            " 4   data               39668 non-null  object\n",
            " 5   labelName          39668 non-null  object\n",
            " 6   labelType          39668 non-null  object\n",
            "dtypes: int64(1), object(6)\n",
            "memory usage: 2.1+ MB\n"
          ]
        }
      ],
      "source": [
        "# Itero sobre las rutas y cargo las imagenes\n",
        "for img_path in image_paths:\n",
        "    filename = os.path.basename(img_path)\n",
        "    label = labels_df.loc[labels_df['Position'] == filename, 'Finding Labels'].values[0]\n",
        "    image = load_img(img_path, target_size=(64, 64))  # Ajustar tamaño de las imágenes\n",
        "    image = img_to_array(image)\n",
        "    images.append(image)\n",
        "    labels.append(label)\n",
        "\n",
        "# Convierto listas a arrays de NumPy\n",
        "images = np.array(images, dtype='float32') / 255.0  # Normalizo imágenes\n",
        "labels = np.array(labels)\n",
        "\n",
        "#Division los datos en conjuntos de entrenamiento y prueba\n",
        "X_train, X_test, y_train, y_test = train_test_split(images, labels, test_size=0.2, random_state=42)"
      ]
    },
    {
      "cell_type": "code",
      "execution_count": 7,
      "metadata": {
        "colab": {
          "base_uri": "https://localhost:8080/",
          "height": 417
        },
        "id": "IyCuLYsLYImk",
        "outputId": "af1eef03-3cbd-4f00-aea3-68abfd999e49"
      },
      "outputs": [
        {
          "data": {
            "application/vnd.google.colaboratory.intrinsic+json": {
              "summary": "{\n  \"name\": \"df2\",\n  \"rows\": 39668,\n  \"fields\": [\n    {\n      \"column\": \"Unnamed: 0\",\n      \"properties\": {\n        \"dtype\": \"number\",\n        \"std\": 11522,\n        \"min\": 0,\n        \"max\": 39899,\n        \"num_unique_values\": 39668,\n        \"samples\": [\n          27500,\n          30057,\n          14263\n        ],\n        \"semantic_type\": \"\",\n        \"description\": \"\"\n      }\n    },\n    {\n      \"column\": \"SOPInstanceUID\",\n      \"properties\": {\n        \"dtype\": \"string\",\n        \"num_unique_values\": 23409,\n        \"samples\": [\n          \"1.2.276.0.7230010.3.1.4.296485376.1.1521714569.2079912\",\n          \"1.2.276.0.7230010.3.1.4.296485376.1.1521714121.1993082\",\n          \"1.2.276.0.7230010.3.1.4.296485376.1.1521713990.1960022\"\n        ],\n        \"semantic_type\": \"\",\n        \"description\": \"\"\n      }\n    },\n    {\n      \"column\": \"SeriesInstanceUID\",\n      \"properties\": {\n        \"dtype\": \"category\",\n        \"num_unique_values\": 552,\n        \"samples\": [\n          \"1.2.276.0.7230010.3.1.3.296485376.1.1521713247.1762332\",\n          \"1.2.276.0.7230010.3.1.3.296485376.1.1521713507.1827790\",\n          \"1.2.276.0.7230010.3.1.3.296485376.1.1521713624.1862610\"\n        ],\n        \"semantic_type\": \"\",\n        \"description\": \"\"\n      }\n    },\n    {\n      \"column\": \"StudyInstanceUID\",\n      \"properties\": {\n        \"dtype\": \"category\",\n        \"num_unique_values\": 226,\n        \"samples\": [\n          \"1.2.276.0.7230010.3.1.2.296485376.1.1521713675.1872999\",\n          \"1.2.276.0.7230010.3.1.2.296485376.1.1521714816.2123947\",\n          \"1.2.276.0.7230010.3.1.2.296485376.1.1521713453.1812268\"\n        ],\n        \"semantic_type\": \"\",\n        \"description\": \"\"\n      }\n    },\n    {\n      \"column\": \"data\",\n      \"properties\": {\n        \"dtype\": \"category\",\n        \"num_unique_values\": 6285,\n        \"samples\": [\n          \"{'x': 311.31461, 'y': 90.60674, 'width': 73.34833, 'height': 233.70786}\",\n          \"{'x': 230.02353, 'y': 163.38824, 'width': 41.411770000000004, 'height': 188.98824}\",\n          \"{'x': 120.03371000000001, 'y': 294.11236, 'width': 20.134829999999997, 'height': 41.70786}\"\n        ],\n        \"semantic_type\": \"\",\n        \"description\": \"\"\n      }\n    },\n    {\n      \"column\": \"labelName\",\n      \"properties\": {\n        \"dtype\": \"category\",\n        \"num_unique_values\": 6,\n        \"samples\": [\n          \"Intraventricular\",\n          \"Intraparenchymal\",\n          \"Epidural\"\n        ],\n        \"semantic_type\": \"\",\n        \"description\": \"\"\n      }\n    },\n    {\n      \"column\": \"labelType\",\n      \"properties\": {\n        \"dtype\": \"category\",\n        \"num_unique_values\": 3,\n        \"samples\": [\n          \"selectedThinSlices\",\n          \"other\",\n          \"handDrawn\"\n        ],\n        \"semantic_type\": \"\",\n        \"description\": \"\"\n      }\n    }\n  ]\n}",
              "type": "dataframe",
              "variable_name": "df2"
            },
            "text/html": [
              "\n",
              "  <div id=\"df-7e997bc6-7c21-4459-8d84-c3fd145d25c0\" class=\"colab-df-container\">\n",
              "    <div>\n",
              "<style scoped>\n",
              "    .dataframe tbody tr th:only-of-type {\n",
              "        vertical-align: middle;\n",
              "    }\n",
              "\n",
              "    .dataframe tbody tr th {\n",
              "        vertical-align: top;\n",
              "    }\n",
              "\n",
              "    .dataframe thead th {\n",
              "        text-align: right;\n",
              "    }\n",
              "</style>\n",
              "<table border=\"1\" class=\"dataframe\">\n",
              "  <thead>\n",
              "    <tr style=\"text-align: right;\">\n",
              "      <th></th>\n",
              "      <th>Unnamed: 0</th>\n",
              "      <th>SOPInstanceUID</th>\n",
              "      <th>SeriesInstanceUID</th>\n",
              "      <th>StudyInstanceUID</th>\n",
              "      <th>data</th>\n",
              "      <th>labelName</th>\n",
              "      <th>labelType</th>\n",
              "    </tr>\n",
              "  </thead>\n",
              "  <tbody>\n",
              "    <tr>\n",
              "      <th>0</th>\n",
              "      <td>0</td>\n",
              "      <td>1.2.276.0.7230010.3.1.4.296485376.1.1521713091...</td>\n",
              "      <td>1.2.276.0.7230010.3.1.3.296485376.1.1521713090...</td>\n",
              "      <td>1.2.276.0.7230010.3.1.2.296485376.1.1521713088...</td>\n",
              "      <td>{'x': 320.95899, 'y': 235.81072999999998, 'wid...</td>\n",
              "      <td>Intraventricular</td>\n",
              "      <td>selectedThinSlices</td>\n",
              "    </tr>\n",
              "    <tr>\n",
              "      <th>1</th>\n",
              "      <td>1</td>\n",
              "      <td>1.2.276.0.7230010.3.1.4.296485376.1.1521713091...</td>\n",
              "      <td>1.2.276.0.7230010.3.1.3.296485376.1.1521713090...</td>\n",
              "      <td>1.2.276.0.7230010.3.1.2.296485376.1.1521713088...</td>\n",
              "      <td>{'x': 320.95899, 'y': 235.81072999999998, 'wid...</td>\n",
              "      <td>Intraventricular</td>\n",
              "      <td>selectedThinSlices</td>\n",
              "    </tr>\n",
              "    <tr>\n",
              "      <th>2</th>\n",
              "      <td>2</td>\n",
              "      <td>1.2.276.0.7230010.3.1.4.296485376.1.1521713091...</td>\n",
              "      <td>1.2.276.0.7230010.3.1.3.296485376.1.1521713090...</td>\n",
              "      <td>1.2.276.0.7230010.3.1.2.296485376.1.1521713088...</td>\n",
              "      <td>{'x': 320.95899, 'y': 235.81072999999998, 'wid...</td>\n",
              "      <td>Intraventricular</td>\n",
              "      <td>selectedThinSlices</td>\n",
              "    </tr>\n",
              "    <tr>\n",
              "      <th>3</th>\n",
              "      <td>3</td>\n",
              "      <td>1.2.276.0.7230010.3.1.4.296485376.1.1521713091...</td>\n",
              "      <td>1.2.276.0.7230010.3.1.3.296485376.1.1521713090...</td>\n",
              "      <td>1.2.276.0.7230010.3.1.2.296485376.1.1521713088...</td>\n",
              "      <td>{'x': 320.95899, 'y': 235.81072999999998, 'wid...</td>\n",
              "      <td>Intraventricular</td>\n",
              "      <td>selectedThinSlices</td>\n",
              "    </tr>\n",
              "    <tr>\n",
              "      <th>4</th>\n",
              "      <td>4</td>\n",
              "      <td>1.2.276.0.7230010.3.1.4.296485376.1.1521713091...</td>\n",
              "      <td>1.2.276.0.7230010.3.1.3.296485376.1.1521713090...</td>\n",
              "      <td>1.2.276.0.7230010.3.1.2.296485376.1.1521713088...</td>\n",
              "      <td>{'x': 318.53628, 'y': 244.69401000000002, 'wid...</td>\n",
              "      <td>Intraventricular</td>\n",
              "      <td>selectedThinSlices</td>\n",
              "    </tr>\n",
              "  </tbody>\n",
              "</table>\n",
              "</div>\n",
              "    <div class=\"colab-df-buttons\">\n",
              "\n",
              "  <div class=\"colab-df-container\">\n",
              "    <button class=\"colab-df-convert\" onclick=\"convertToInteractive('df-7e997bc6-7c21-4459-8d84-c3fd145d25c0')\"\n",
              "            title=\"Convert this dataframe to an interactive table.\"\n",
              "            style=\"display:none;\">\n",
              "\n",
              "  <svg xmlns=\"http://www.w3.org/2000/svg\" height=\"24px\" viewBox=\"0 -960 960 960\">\n",
              "    <path d=\"M120-120v-720h720v720H120Zm60-500h600v-160H180v160Zm220 220h160v-160H400v160Zm0 220h160v-160H400v160ZM180-400h160v-160H180v160Zm440 0h160v-160H620v160ZM180-180h160v-160H180v160Zm440 0h160v-160H620v160Z\"/>\n",
              "  </svg>\n",
              "    </button>\n",
              "\n",
              "  <style>\n",
              "    .colab-df-container {\n",
              "      display:flex;\n",
              "      gap: 12px;\n",
              "    }\n",
              "\n",
              "    .colab-df-convert {\n",
              "      background-color: #E8F0FE;\n",
              "      border: none;\n",
              "      border-radius: 50%;\n",
              "      cursor: pointer;\n",
              "      display: none;\n",
              "      fill: #1967D2;\n",
              "      height: 32px;\n",
              "      padding: 0 0 0 0;\n",
              "      width: 32px;\n",
              "    }\n",
              "\n",
              "    .colab-df-convert:hover {\n",
              "      background-color: #E2EBFA;\n",
              "      box-shadow: 0px 1px 2px rgba(60, 64, 67, 0.3), 0px 1px 3px 1px rgba(60, 64, 67, 0.15);\n",
              "      fill: #174EA6;\n",
              "    }\n",
              "\n",
              "    .colab-df-buttons div {\n",
              "      margin-bottom: 4px;\n",
              "    }\n",
              "\n",
              "    [theme=dark] .colab-df-convert {\n",
              "      background-color: #3B4455;\n",
              "      fill: #D2E3FC;\n",
              "    }\n",
              "\n",
              "    [theme=dark] .colab-df-convert:hover {\n",
              "      background-color: #434B5C;\n",
              "      box-shadow: 0px 1px 3px 1px rgba(0, 0, 0, 0.15);\n",
              "      filter: drop-shadow(0px 1px 2px rgba(0, 0, 0, 0.3));\n",
              "      fill: #FFFFFF;\n",
              "    }\n",
              "  </style>\n",
              "\n",
              "    <script>\n",
              "      const buttonEl =\n",
              "        document.querySelector('#df-7e997bc6-7c21-4459-8d84-c3fd145d25c0 button.colab-df-convert');\n",
              "      buttonEl.style.display =\n",
              "        google.colab.kernel.accessAllowed ? 'block' : 'none';\n",
              "\n",
              "      async function convertToInteractive(key) {\n",
              "        const element = document.querySelector('#df-7e997bc6-7c21-4459-8d84-c3fd145d25c0');\n",
              "        const dataTable =\n",
              "          await google.colab.kernel.invokeFunction('convertToInteractive',\n",
              "                                                    [key], {});\n",
              "        if (!dataTable) return;\n",
              "\n",
              "        const docLinkHtml = 'Like what you see? Visit the ' +\n",
              "          '<a target=\"_blank\" href=https://colab.research.google.com/notebooks/data_table.ipynb>data table notebook</a>'\n",
              "          + ' to learn more about interactive tables.';\n",
              "        element.innerHTML = '';\n",
              "        dataTable['output_type'] = 'display_data';\n",
              "        await google.colab.output.renderOutput(dataTable, element);\n",
              "        const docLink = document.createElement('div');\n",
              "        docLink.innerHTML = docLinkHtml;\n",
              "        element.appendChild(docLink);\n",
              "      }\n",
              "    </script>\n",
              "  </div>\n",
              "\n",
              "\n",
              "<div id=\"df-2b0d470a-a15a-4e9d-8186-88cf8a0c0894\">\n",
              "  <button class=\"colab-df-quickchart\" onclick=\"quickchart('df-2b0d470a-a15a-4e9d-8186-88cf8a0c0894')\"\n",
              "            title=\"Suggest charts\"\n",
              "            style=\"display:none;\">\n",
              "\n",
              "<svg xmlns=\"http://www.w3.org/2000/svg\" height=\"24px\"viewBox=\"0 0 24 24\"\n",
              "     width=\"24px\">\n",
              "    <g>\n",
              "        <path d=\"M19 3H5c-1.1 0-2 .9-2 2v14c0 1.1.9 2 2 2h14c1.1 0 2-.9 2-2V5c0-1.1-.9-2-2-2zM9 17H7v-7h2v7zm4 0h-2V7h2v10zm4 0h-2v-4h2v4z\"/>\n",
              "    </g>\n",
              "</svg>\n",
              "  </button>\n",
              "\n",
              "<style>\n",
              "  .colab-df-quickchart {\n",
              "      --bg-color: #E8F0FE;\n",
              "      --fill-color: #1967D2;\n",
              "      --hover-bg-color: #E2EBFA;\n",
              "      --hover-fill-color: #174EA6;\n",
              "      --disabled-fill-color: #AAA;\n",
              "      --disabled-bg-color: #DDD;\n",
              "  }\n",
              "\n",
              "  [theme=dark] .colab-df-quickchart {\n",
              "      --bg-color: #3B4455;\n",
              "      --fill-color: #D2E3FC;\n",
              "      --hover-bg-color: #434B5C;\n",
              "      --hover-fill-color: #FFFFFF;\n",
              "      --disabled-bg-color: #3B4455;\n",
              "      --disabled-fill-color: #666;\n",
              "  }\n",
              "\n",
              "  .colab-df-quickchart {\n",
              "    background-color: var(--bg-color);\n",
              "    border: none;\n",
              "    border-radius: 50%;\n",
              "    cursor: pointer;\n",
              "    display: none;\n",
              "    fill: var(--fill-color);\n",
              "    height: 32px;\n",
              "    padding: 0;\n",
              "    width: 32px;\n",
              "  }\n",
              "\n",
              "  .colab-df-quickchart:hover {\n",
              "    background-color: var(--hover-bg-color);\n",
              "    box-shadow: 0 1px 2px rgba(60, 64, 67, 0.3), 0 1px 3px 1px rgba(60, 64, 67, 0.15);\n",
              "    fill: var(--button-hover-fill-color);\n",
              "  }\n",
              "\n",
              "  .colab-df-quickchart-complete:disabled,\n",
              "  .colab-df-quickchart-complete:disabled:hover {\n",
              "    background-color: var(--disabled-bg-color);\n",
              "    fill: var(--disabled-fill-color);\n",
              "    box-shadow: none;\n",
              "  }\n",
              "\n",
              "  .colab-df-spinner {\n",
              "    border: 2px solid var(--fill-color);\n",
              "    border-color: transparent;\n",
              "    border-bottom-color: var(--fill-color);\n",
              "    animation:\n",
              "      spin 1s steps(1) infinite;\n",
              "  }\n",
              "\n",
              "  @keyframes spin {\n",
              "    0% {\n",
              "      border-color: transparent;\n",
              "      border-bottom-color: var(--fill-color);\n",
              "      border-left-color: var(--fill-color);\n",
              "    }\n",
              "    20% {\n",
              "      border-color: transparent;\n",
              "      border-left-color: var(--fill-color);\n",
              "      border-top-color: var(--fill-color);\n",
              "    }\n",
              "    30% {\n",
              "      border-color: transparent;\n",
              "      border-left-color: var(--fill-color);\n",
              "      border-top-color: var(--fill-color);\n",
              "      border-right-color: var(--fill-color);\n",
              "    }\n",
              "    40% {\n",
              "      border-color: transparent;\n",
              "      border-right-color: var(--fill-color);\n",
              "      border-top-color: var(--fill-color);\n",
              "    }\n",
              "    60% {\n",
              "      border-color: transparent;\n",
              "      border-right-color: var(--fill-color);\n",
              "    }\n",
              "    80% {\n",
              "      border-color: transparent;\n",
              "      border-right-color: var(--fill-color);\n",
              "      border-bottom-color: var(--fill-color);\n",
              "    }\n",
              "    90% {\n",
              "      border-color: transparent;\n",
              "      border-bottom-color: var(--fill-color);\n",
              "    }\n",
              "  }\n",
              "</style>\n",
              "\n",
              "  <script>\n",
              "    async function quickchart(key) {\n",
              "      const quickchartButtonEl =\n",
              "        document.querySelector('#' + key + ' button');\n",
              "      quickchartButtonEl.disabled = true;  // To prevent multiple clicks.\n",
              "      quickchartButtonEl.classList.add('colab-df-spinner');\n",
              "      try {\n",
              "        const charts = await google.colab.kernel.invokeFunction(\n",
              "            'suggestCharts', [key], {});\n",
              "      } catch (error) {\n",
              "        console.error('Error during call to suggestCharts:', error);\n",
              "      }\n",
              "      quickchartButtonEl.classList.remove('colab-df-spinner');\n",
              "      quickchartButtonEl.classList.add('colab-df-quickchart-complete');\n",
              "    }\n",
              "    (() => {\n",
              "      let quickchartButtonEl =\n",
              "        document.querySelector('#df-2b0d470a-a15a-4e9d-8186-88cf8a0c0894 button');\n",
              "      quickchartButtonEl.style.display =\n",
              "        google.colab.kernel.accessAllowed ? 'block' : 'none';\n",
              "    })();\n",
              "  </script>\n",
              "</div>\n",
              "    </div>\n",
              "  </div>\n"
            ],
            "text/plain": [
              "   Unnamed: 0                                     SOPInstanceUID  \\\n",
              "0           0  1.2.276.0.7230010.3.1.4.296485376.1.1521713091...   \n",
              "1           1  1.2.276.0.7230010.3.1.4.296485376.1.1521713091...   \n",
              "2           2  1.2.276.0.7230010.3.1.4.296485376.1.1521713091...   \n",
              "3           3  1.2.276.0.7230010.3.1.4.296485376.1.1521713091...   \n",
              "4           4  1.2.276.0.7230010.3.1.4.296485376.1.1521713091...   \n",
              "\n",
              "                                   SeriesInstanceUID  \\\n",
              "0  1.2.276.0.7230010.3.1.3.296485376.1.1521713090...   \n",
              "1  1.2.276.0.7230010.3.1.3.296485376.1.1521713090...   \n",
              "2  1.2.276.0.7230010.3.1.3.296485376.1.1521713090...   \n",
              "3  1.2.276.0.7230010.3.1.3.296485376.1.1521713090...   \n",
              "4  1.2.276.0.7230010.3.1.3.296485376.1.1521713090...   \n",
              "\n",
              "                                    StudyInstanceUID  \\\n",
              "0  1.2.276.0.7230010.3.1.2.296485376.1.1521713088...   \n",
              "1  1.2.276.0.7230010.3.1.2.296485376.1.1521713088...   \n",
              "2  1.2.276.0.7230010.3.1.2.296485376.1.1521713088...   \n",
              "3  1.2.276.0.7230010.3.1.2.296485376.1.1521713088...   \n",
              "4  1.2.276.0.7230010.3.1.2.296485376.1.1521713088...   \n",
              "\n",
              "                                                data         labelName  \\\n",
              "0  {'x': 320.95899, 'y': 235.81072999999998, 'wid...  Intraventricular   \n",
              "1  {'x': 320.95899, 'y': 235.81072999999998, 'wid...  Intraventricular   \n",
              "2  {'x': 320.95899, 'y': 235.81072999999998, 'wid...  Intraventricular   \n",
              "3  {'x': 320.95899, 'y': 235.81072999999998, 'wid...  Intraventricular   \n",
              "4  {'x': 318.53628, 'y': 244.69401000000002, 'wid...  Intraventricular   \n",
              "\n",
              "            labelType  \n",
              "0  selectedThinSlices  \n",
              "1  selectedThinSlices  \n",
              "2  selectedThinSlices  \n",
              "3  selectedThinSlices  \n",
              "4  selectedThinSlices  "
            ]
          },
          "execution_count": 7,
          "metadata": {},
          "output_type": "execute_result"
        }
      ],
      "source": [
        "df2.head()"
      ]
    },
    {
      "cell_type": "code",
      "execution_count": 8,
      "metadata": {
        "id": "EAflIGwGaAjP"
      },
      "outputs": [],
      "source": [
        "# Asegurarse de que no haya valores nulos\n",
        "df2 = df2.dropna()"
      ]
    },
    {
      "cell_type": "code",
      "execution_count": 10,
      "metadata": {
        "colab": {
          "base_uri": "https://localhost:8080/",
          "height": 424
        },
        "id": "hWxPBQGKaJ7X",
        "outputId": "7b295df7-9bf6-48d3-df03-27371de0aef5"
      },
      "outputs": [
        {
          "data": {
            "application/vnd.google.colaboratory.intrinsic+json": {
              "summary": "{\n  \"name\": \"X\",\n  \"rows\": 39668,\n  \"fields\": [\n    {\n      \"column\": \"x\",\n      \"properties\": {\n        \"dtype\": \"number\",\n        \"std\": 69.54971735485293,\n        \"min\": 77.59826,\n        \"max\": 387.45946000000004,\n        \"num_unique_values\": 2719,\n        \"samples\": [\n          177.01345,\n          126.19578999999999,\n          274.25674\n        ],\n        \"semantic_type\": \"\",\n        \"description\": \"\"\n      }\n    },\n    {\n      \"column\": \"y\",\n      \"properties\": {\n        \"dtype\": \"number\",\n        \"std\": 83.76825464212833,\n        \"min\": 38.38452,\n        \"max\": 429.11175,\n        \"num_unique_values\": 2633,\n        \"samples\": [\n          214.3962,\n          311.67849,\n          343.73033\n        ],\n        \"semantic_type\": \"\",\n        \"description\": \"\"\n      }\n    },\n    {\n      \"column\": \"width\",\n      \"properties\": {\n        \"dtype\": \"number\",\n        \"std\": 50.84533707391688,\n        \"min\": 7.9435899999999995,\n        \"max\": 303.46066,\n        \"num_unique_values\": 2640,\n        \"samples\": [\n          53.381159999999994,\n          49.82793,\n          72.4353\n        ],\n        \"semantic_type\": \"\",\n        \"description\": \"\"\n      }\n    },\n    {\n      \"column\": \"height\",\n      \"properties\": {\n        \"dtype\": \"number\",\n        \"std\": 80.47599970183775,\n        \"min\": 10.11002,\n        \"max\": 420.99155,\n        \"num_unique_values\": 3291,\n        \"samples\": [\n          133.7528,\n          73.88542,\n          236.86317000000003\n        ],\n        \"semantic_type\": \"\",\n        \"description\": \"\"\n      }\n    }\n  ]\n}",
              "type": "dataframe",
              "variable_name": "X"
            },
            "text/html": [
              "\n",
              "  <div id=\"df-471a1a74-c034-48e4-8d1a-8e598a2af112\" class=\"colab-df-container\">\n",
              "    <div>\n",
              "<style scoped>\n",
              "    .dataframe tbody tr th:only-of-type {\n",
              "        vertical-align: middle;\n",
              "    }\n",
              "\n",
              "    .dataframe tbody tr th {\n",
              "        vertical-align: top;\n",
              "    }\n",
              "\n",
              "    .dataframe thead th {\n",
              "        text-align: right;\n",
              "    }\n",
              "</style>\n",
              "<table border=\"1\" class=\"dataframe\">\n",
              "  <thead>\n",
              "    <tr style=\"text-align: right;\">\n",
              "      <th></th>\n",
              "      <th>x</th>\n",
              "      <th>y</th>\n",
              "      <th>width</th>\n",
              "      <th>height</th>\n",
              "    </tr>\n",
              "  </thead>\n",
              "  <tbody>\n",
              "    <tr>\n",
              "      <th>0</th>\n",
              "      <td>320.95899</td>\n",
              "      <td>235.81073</td>\n",
              "      <td>30.68771</td>\n",
              "      <td>52.49210</td>\n",
              "    </tr>\n",
              "    <tr>\n",
              "      <th>1</th>\n",
              "      <td>320.95899</td>\n",
              "      <td>235.81073</td>\n",
              "      <td>30.68771</td>\n",
              "      <td>52.49210</td>\n",
              "    </tr>\n",
              "    <tr>\n",
              "      <th>2</th>\n",
              "      <td>320.95899</td>\n",
              "      <td>235.81073</td>\n",
              "      <td>30.68771</td>\n",
              "      <td>52.49210</td>\n",
              "    </tr>\n",
              "    <tr>\n",
              "      <th>3</th>\n",
              "      <td>320.95899</td>\n",
              "      <td>235.81073</td>\n",
              "      <td>30.68771</td>\n",
              "      <td>52.49210</td>\n",
              "    </tr>\n",
              "    <tr>\n",
              "      <th>4</th>\n",
              "      <td>318.53628</td>\n",
              "      <td>244.69401</td>\n",
              "      <td>33.91796</td>\n",
              "      <td>56.52997</td>\n",
              "    </tr>\n",
              "    <tr>\n",
              "      <th>...</th>\n",
              "      <td>...</td>\n",
              "      <td>...</td>\n",
              "      <td>...</td>\n",
              "      <td>...</td>\n",
              "    </tr>\n",
              "    <tr>\n",
              "      <th>39663</th>\n",
              "      <td>185.47191</td>\n",
              "      <td>73.34831</td>\n",
              "      <td>46.02248</td>\n",
              "      <td>25.16854</td>\n",
              "    </tr>\n",
              "    <tr>\n",
              "      <th>39664</th>\n",
              "      <td>179.00000</td>\n",
              "      <td>79.10112</td>\n",
              "      <td>58.96629</td>\n",
              "      <td>28.76405</td>\n",
              "    </tr>\n",
              "    <tr>\n",
              "      <th>39665</th>\n",
              "      <td>185.47191</td>\n",
              "      <td>82.69663</td>\n",
              "      <td>64.71910</td>\n",
              "      <td>33.79775</td>\n",
              "    </tr>\n",
              "    <tr>\n",
              "      <th>39666</th>\n",
              "      <td>187.62921</td>\n",
              "      <td>86.29213</td>\n",
              "      <td>61.12360</td>\n",
              "      <td>37.39326</td>\n",
              "    </tr>\n",
              "    <tr>\n",
              "      <th>39667</th>\n",
              "      <td>196.97753</td>\n",
              "      <td>95.64045</td>\n",
              "      <td>54.65169</td>\n",
              "      <td>33.79775</td>\n",
              "    </tr>\n",
              "  </tbody>\n",
              "</table>\n",
              "<p>39668 rows × 4 columns</p>\n",
              "</div>\n",
              "    <div class=\"colab-df-buttons\">\n",
              "\n",
              "  <div class=\"colab-df-container\">\n",
              "    <button class=\"colab-df-convert\" onclick=\"convertToInteractive('df-471a1a74-c034-48e4-8d1a-8e598a2af112')\"\n",
              "            title=\"Convert this dataframe to an interactive table.\"\n",
              "            style=\"display:none;\">\n",
              "\n",
              "  <svg xmlns=\"http://www.w3.org/2000/svg\" height=\"24px\" viewBox=\"0 -960 960 960\">\n",
              "    <path d=\"M120-120v-720h720v720H120Zm60-500h600v-160H180v160Zm220 220h160v-160H400v160Zm0 220h160v-160H400v160ZM180-400h160v-160H180v160Zm440 0h160v-160H620v160ZM180-180h160v-160H180v160Zm440 0h160v-160H620v160Z\"/>\n",
              "  </svg>\n",
              "    </button>\n",
              "\n",
              "  <style>\n",
              "    .colab-df-container {\n",
              "      display:flex;\n",
              "      gap: 12px;\n",
              "    }\n",
              "\n",
              "    .colab-df-convert {\n",
              "      background-color: #E8F0FE;\n",
              "      border: none;\n",
              "      border-radius: 50%;\n",
              "      cursor: pointer;\n",
              "      display: none;\n",
              "      fill: #1967D2;\n",
              "      height: 32px;\n",
              "      padding: 0 0 0 0;\n",
              "      width: 32px;\n",
              "    }\n",
              "\n",
              "    .colab-df-convert:hover {\n",
              "      background-color: #E2EBFA;\n",
              "      box-shadow: 0px 1px 2px rgba(60, 64, 67, 0.3), 0px 1px 3px 1px rgba(60, 64, 67, 0.15);\n",
              "      fill: #174EA6;\n",
              "    }\n",
              "\n",
              "    .colab-df-buttons div {\n",
              "      margin-bottom: 4px;\n",
              "    }\n",
              "\n",
              "    [theme=dark] .colab-df-convert {\n",
              "      background-color: #3B4455;\n",
              "      fill: #D2E3FC;\n",
              "    }\n",
              "\n",
              "    [theme=dark] .colab-df-convert:hover {\n",
              "      background-color: #434B5C;\n",
              "      box-shadow: 0px 1px 3px 1px rgba(0, 0, 0, 0.15);\n",
              "      filter: drop-shadow(0px 1px 2px rgba(0, 0, 0, 0.3));\n",
              "      fill: #FFFFFF;\n",
              "    }\n",
              "  </style>\n",
              "\n",
              "    <script>\n",
              "      const buttonEl =\n",
              "        document.querySelector('#df-471a1a74-c034-48e4-8d1a-8e598a2af112 button.colab-df-convert');\n",
              "      buttonEl.style.display =\n",
              "        google.colab.kernel.accessAllowed ? 'block' : 'none';\n",
              "\n",
              "      async function convertToInteractive(key) {\n",
              "        const element = document.querySelector('#df-471a1a74-c034-48e4-8d1a-8e598a2af112');\n",
              "        const dataTable =\n",
              "          await google.colab.kernel.invokeFunction('convertToInteractive',\n",
              "                                                    [key], {});\n",
              "        if (!dataTable) return;\n",
              "\n",
              "        const docLinkHtml = 'Like what you see? Visit the ' +\n",
              "          '<a target=\"_blank\" href=https://colab.research.google.com/notebooks/data_table.ipynb>data table notebook</a>'\n",
              "          + ' to learn more about interactive tables.';\n",
              "        element.innerHTML = '';\n",
              "        dataTable['output_type'] = 'display_data';\n",
              "        await google.colab.output.renderOutput(dataTable, element);\n",
              "        const docLink = document.createElement('div');\n",
              "        docLink.innerHTML = docLinkHtml;\n",
              "        element.appendChild(docLink);\n",
              "      }\n",
              "    </script>\n",
              "  </div>\n",
              "\n",
              "\n",
              "<div id=\"df-1e41249d-86c9-4864-a6f4-ccae6b84e936\">\n",
              "  <button class=\"colab-df-quickchart\" onclick=\"quickchart('df-1e41249d-86c9-4864-a6f4-ccae6b84e936')\"\n",
              "            title=\"Suggest charts\"\n",
              "            style=\"display:none;\">\n",
              "\n",
              "<svg xmlns=\"http://www.w3.org/2000/svg\" height=\"24px\"viewBox=\"0 0 24 24\"\n",
              "     width=\"24px\">\n",
              "    <g>\n",
              "        <path d=\"M19 3H5c-1.1 0-2 .9-2 2v14c0 1.1.9 2 2 2h14c1.1 0 2-.9 2-2V5c0-1.1-.9-2-2-2zM9 17H7v-7h2v7zm4 0h-2V7h2v10zm4 0h-2v-4h2v4z\"/>\n",
              "    </g>\n",
              "</svg>\n",
              "  </button>\n",
              "\n",
              "<style>\n",
              "  .colab-df-quickchart {\n",
              "      --bg-color: #E8F0FE;\n",
              "      --fill-color: #1967D2;\n",
              "      --hover-bg-color: #E2EBFA;\n",
              "      --hover-fill-color: #174EA6;\n",
              "      --disabled-fill-color: #AAA;\n",
              "      --disabled-bg-color: #DDD;\n",
              "  }\n",
              "\n",
              "  [theme=dark] .colab-df-quickchart {\n",
              "      --bg-color: #3B4455;\n",
              "      --fill-color: #D2E3FC;\n",
              "      --hover-bg-color: #434B5C;\n",
              "      --hover-fill-color: #FFFFFF;\n",
              "      --disabled-bg-color: #3B4455;\n",
              "      --disabled-fill-color: #666;\n",
              "  }\n",
              "\n",
              "  .colab-df-quickchart {\n",
              "    background-color: var(--bg-color);\n",
              "    border: none;\n",
              "    border-radius: 50%;\n",
              "    cursor: pointer;\n",
              "    display: none;\n",
              "    fill: var(--fill-color);\n",
              "    height: 32px;\n",
              "    padding: 0;\n",
              "    width: 32px;\n",
              "  }\n",
              "\n",
              "  .colab-df-quickchart:hover {\n",
              "    background-color: var(--hover-bg-color);\n",
              "    box-shadow: 0 1px 2px rgba(60, 64, 67, 0.3), 0 1px 3px 1px rgba(60, 64, 67, 0.15);\n",
              "    fill: var(--button-hover-fill-color);\n",
              "  }\n",
              "\n",
              "  .colab-df-quickchart-complete:disabled,\n",
              "  .colab-df-quickchart-complete:disabled:hover {\n",
              "    background-color: var(--disabled-bg-color);\n",
              "    fill: var(--disabled-fill-color);\n",
              "    box-shadow: none;\n",
              "  }\n",
              "\n",
              "  .colab-df-spinner {\n",
              "    border: 2px solid var(--fill-color);\n",
              "    border-color: transparent;\n",
              "    border-bottom-color: var(--fill-color);\n",
              "    animation:\n",
              "      spin 1s steps(1) infinite;\n",
              "  }\n",
              "\n",
              "  @keyframes spin {\n",
              "    0% {\n",
              "      border-color: transparent;\n",
              "      border-bottom-color: var(--fill-color);\n",
              "      border-left-color: var(--fill-color);\n",
              "    }\n",
              "    20% {\n",
              "      border-color: transparent;\n",
              "      border-left-color: var(--fill-color);\n",
              "      border-top-color: var(--fill-color);\n",
              "    }\n",
              "    30% {\n",
              "      border-color: transparent;\n",
              "      border-left-color: var(--fill-color);\n",
              "      border-top-color: var(--fill-color);\n",
              "      border-right-color: var(--fill-color);\n",
              "    }\n",
              "    40% {\n",
              "      border-color: transparent;\n",
              "      border-right-color: var(--fill-color);\n",
              "      border-top-color: var(--fill-color);\n",
              "    }\n",
              "    60% {\n",
              "      border-color: transparent;\n",
              "      border-right-color: var(--fill-color);\n",
              "    }\n",
              "    80% {\n",
              "      border-color: transparent;\n",
              "      border-right-color: var(--fill-color);\n",
              "      border-bottom-color: var(--fill-color);\n",
              "    }\n",
              "    90% {\n",
              "      border-color: transparent;\n",
              "      border-bottom-color: var(--fill-color);\n",
              "    }\n",
              "  }\n",
              "</style>\n",
              "\n",
              "  <script>\n",
              "    async function quickchart(key) {\n",
              "      const quickchartButtonEl =\n",
              "        document.querySelector('#' + key + ' button');\n",
              "      quickchartButtonEl.disabled = true;  // To prevent multiple clicks.\n",
              "      quickchartButtonEl.classList.add('colab-df-spinner');\n",
              "      try {\n",
              "        const charts = await google.colab.kernel.invokeFunction(\n",
              "            'suggestCharts', [key], {});\n",
              "      } catch (error) {\n",
              "        console.error('Error during call to suggestCharts:', error);\n",
              "      }\n",
              "      quickchartButtonEl.classList.remove('colab-df-spinner');\n",
              "      quickchartButtonEl.classList.add('colab-df-quickchart-complete');\n",
              "    }\n",
              "    (() => {\n",
              "      let quickchartButtonEl =\n",
              "        document.querySelector('#df-1e41249d-86c9-4864-a6f4-ccae6b84e936 button');\n",
              "      quickchartButtonEl.style.display =\n",
              "        google.colab.kernel.accessAllowed ? 'block' : 'none';\n",
              "    })();\n",
              "  </script>\n",
              "</div>\n",
              "    </div>\n",
              "  </div>\n"
            ],
            "text/plain": [
              "               x          y     width    height\n",
              "0      320.95899  235.81073  30.68771  52.49210\n",
              "1      320.95899  235.81073  30.68771  52.49210\n",
              "2      320.95899  235.81073  30.68771  52.49210\n",
              "3      320.95899  235.81073  30.68771  52.49210\n",
              "4      318.53628  244.69401  33.91796  56.52997\n",
              "...          ...        ...       ...       ...\n",
              "39663  185.47191   73.34831  46.02248  25.16854\n",
              "39664  179.00000   79.10112  58.96629  28.76405\n",
              "39665  185.47191   82.69663  64.71910  33.79775\n",
              "39666  187.62921   86.29213  61.12360  37.39326\n",
              "39667  196.97753   95.64045  54.65169  33.79775\n",
              "\n",
              "[39668 rows x 4 columns]"
            ]
          },
          "execution_count": 10,
          "metadata": {},
          "output_type": "execute_result"
        }
      ],
      "source": [
        "# Seleccionar las características y las etiquetas\n",
        "X = df2[['x', 'y', 'width', 'height']]\n",
        "X"
      ]
    },
    {
      "cell_type": "code",
      "execution_count": 11,
      "metadata": {
        "colab": {
          "base_uri": "https://localhost:8080/"
        },
        "id": "ErQLaqemaepM",
        "outputId": "a26f9823-e640-404a-ed6c-bb893c12af17"
      },
      "outputs": [
        {
          "data": {
            "text/plain": [
              "0        Intraventricular\n",
              "1        Intraventricular\n",
              "2        Intraventricular\n",
              "3        Intraventricular\n",
              "4        Intraventricular\n",
              "               ...       \n",
              "39663            Epidural\n",
              "39664            Epidural\n",
              "39665            Epidural\n",
              "39666            Epidural\n",
              "39667            Epidural\n",
              "Name: labelName, Length: 39668, dtype: object"
            ]
          },
          "execution_count": 11,
          "metadata": {},
          "output_type": "execute_result"
        }
      ],
      "source": [
        "y = df2['labelName']\n",
        "y"
      ]
    },
    {
      "cell_type": "code",
      "execution_count": 12,
      "metadata": {
        "colab": {
          "base_uri": "https://localhost:8080/"
        },
        "id": "G8ihYxVkakws",
        "outputId": "6eb18f73-6c80-4c3a-8fdf-5b37117c45d4"
      },
      "outputs": [
        {
          "name": "stdout",
          "output_type": "stream",
          "text": [
            "[3 3 3 ... 1 1 1]\n",
            "[[0. 0. 0. 1. 0. 0.]\n",
            " [0. 0. 0. 1. 0. 0.]\n",
            " [0. 0. 0. 1. 0. 0.]\n",
            " ...\n",
            " [0. 1. 0. 0. 0. 0.]\n",
            " [0. 1. 0. 0. 0. 0.]\n",
            " [0. 1. 0. 0. 0. 0.]]\n"
          ]
        }
      ],
      "source": [
        "# Se codifican las 6 etiquetas categóricas utilizando (one-hot encoding)\n",
        "label_encod = LabelEncoder()\n",
        "y_encoded = label_encod.fit_transform(y)\n",
        "print(y_encoded)\n",
        "\n",
        "y_categorical = to_categorical(y_encoded)\n",
        "print(y_categorical)"
      ]
    },
    {
      "cell_type": "code",
      "execution_count": 13,
      "metadata": {
        "id": "5f2X3Zfua73C"
      },
      "outputs": [],
      "source": [
        "# Divido los datos en set de training (80%) y testeo (20%)\n",
        "X_train, X_test, y_train, y_test = train_test_split(X, y_categorical, test_size=0.2, random_state=42)\n",
        "\n",
        "# Normalizo los datos\n",
        "scaler = StandardScaler()\n",
        "X_train_scaled = scaler.fit_transform(X_train)\n",
        "X_test_scaled = scaler.transform(X_test)"
      ]
    },
    {
      "cell_type": "markdown",
      "metadata": {
        "id": "nSqO8gGW3nl6"
      },
      "source": [
        "## Creando un modelo de datos"
      ]
    },
    {
      "cell_type": "markdown",
      "metadata": {
        "id": "S2AXEFgQfAQJ"
      },
      "source": [
        "##1er modelo multicapas"
      ]
    },
    {
      "cell_type": "code",
      "execution_count": null,
      "metadata": {
        "id": "2NqaIqc9LY8i"
      },
      "outputs": [],
      "source": [
        "def Crear_modelo(num_capas_ocultas, neuronas_por_capa, input_shape, num_clases):\n",
        "    model = models.Sequential()\n",
        "    model.add(layers.Dense(neuronas_por_capa, activation='relu', input_shape=input_shape)) #Capa de entraada\n",
        "    #Capas ocultas\n",
        "    for _ in range(num_capas_ocultas - 1):\n",
        "        model.add(layers.Dense(neuronas_por_capa, activation='relu'))\n",
        "    model.add(layers.Dense(num_clases, activation='softmax'))     #Capa de salida\n",
        "    return model"
      ]
    },
    {
      "cell_type": "code",
      "execution_count": null,
      "metadata": {
        "colab": {
          "base_uri": "https://localhost:8080/"
        },
        "id": "ALyK3pDrLbwp",
        "outputId": "ebea472f-79ad-401f-dcd5-8d3eab720085"
      },
      "outputs": [
        {
          "name": "stdout",
          "output_type": "stream",
          "text": [
            "Model: \"sequential_13\"\n",
            "_________________________________________________________________\n",
            " Layer (type)                Output Shape              Param #   \n",
            "=================================================================\n",
            " dense_238 (Dense)           (None, 512)               2560      \n",
            "                                                                 \n",
            " dense_239 (Dense)           (None, 512)               262656    \n",
            "                                                                 \n",
            " dense_240 (Dense)           (None, 512)               262656    \n",
            "                                                                 \n",
            " dense_241 (Dense)           (None, 512)               262656    \n",
            "                                                                 \n",
            " dense_242 (Dense)           (None, 512)               262656    \n",
            "                                                                 \n",
            " dense_243 (Dense)           (None, 512)               262656    \n",
            "                                                                 \n",
            " dense_244 (Dense)           (None, 512)               262656    \n",
            "                                                                 \n",
            " dense_245 (Dense)           (None, 512)               262656    \n",
            "                                                                 \n",
            " dense_246 (Dense)           (None, 512)               262656    \n",
            "                                                                 \n",
            " dense_247 (Dense)           (None, 512)               262656    \n",
            "                                                                 \n",
            " dense_248 (Dense)           (None, 512)               262656    \n",
            "                                                                 \n",
            " dense_249 (Dense)           (None, 512)               262656    \n",
            "                                                                 \n",
            " dense_250 (Dense)           (None, 512)               262656    \n",
            "                                                                 \n",
            " dense_251 (Dense)           (None, 512)               262656    \n",
            "                                                                 \n",
            " dense_252 (Dense)           (None, 512)               262656    \n",
            "                                                                 \n",
            " dense_253 (Dense)           (None, 512)               262656    \n",
            "                                                                 \n",
            " dense_254 (Dense)           (None, 512)               262656    \n",
            "                                                                 \n",
            " dense_255 (Dense)           (None, 512)               262656    \n",
            "                                                                 \n",
            " dense_256 (Dense)           (None, 6)                 3078      \n",
            "                                                                 \n",
            "=================================================================\n",
            "Total params: 4470790 (17.05 MB)\n",
            "Trainable params: 4470790 (17.05 MB)\n",
            "Non-trainable params: 0 (0.00 Byte)\n",
            "_________________________________________________________________\n"
          ]
        }
      ],
      "source": [
        "num_capas_ocultas = 18\n",
        "neuronas_por_capa = 512\n",
        "input_shape = (X_train.shape[1],)\n",
        "num_clases = y_categorical.shape[1]\n",
        "modelo_1 = Crear_modelo(num_capas_ocultas, neuronas_por_capa, input_shape, num_clases)"
      ]
    },
    {
      "cell_type": "code",
      "execution_count": null,
      "metadata": {
        "colab": {
          "base_uri": "https://localhost:8080/"
        },
        "id": "GwSrjkx3a-dH",
        "outputId": "34f88b54-b106-4936-d05f-7b71966d525b"
      },
      "outputs": [
        {
          "name": "stdout",
          "output_type": "stream",
          "text": [
            "Model: \"sequential_13\"\n",
            "_________________________________________________________________\n",
            " Layer (type)                Output Shape              Param #   \n",
            "=================================================================\n",
            " dense_238 (Dense)           (None, 512)               2560      \n",
            "                                                                 \n",
            " dense_239 (Dense)           (None, 512)               262656    \n",
            "                                                                 \n",
            " dense_240 (Dense)           (None, 512)               262656    \n",
            "                                                                 \n",
            " dense_241 (Dense)           (None, 512)               262656    \n",
            "                                                                 \n",
            " dense_242 (Dense)           (None, 512)               262656    \n",
            "                                                                 \n",
            " dense_243 (Dense)           (None, 512)               262656    \n",
            "                                                                 \n",
            " dense_244 (Dense)           (None, 512)               262656    \n",
            "                                                                 \n",
            " dense_245 (Dense)           (None, 512)               262656    \n",
            "                                                                 \n",
            " dense_246 (Dense)           (None, 512)               262656    \n",
            "                                                                 \n",
            " dense_247 (Dense)           (None, 512)               262656    \n",
            "                                                                 \n",
            " dense_248 (Dense)           (None, 512)               262656    \n",
            "                                                                 \n",
            " dense_249 (Dense)           (None, 512)               262656    \n",
            "                                                                 \n",
            " dense_250 (Dense)           (None, 512)               262656    \n",
            "                                                                 \n",
            " dense_251 (Dense)           (None, 512)               262656    \n",
            "                                                                 \n",
            " dense_252 (Dense)           (None, 512)               262656    \n",
            "                                                                 \n",
            " dense_253 (Dense)           (None, 512)               262656    \n",
            "                                                                 \n",
            " dense_254 (Dense)           (None, 512)               262656    \n",
            "                                                                 \n",
            " dense_255 (Dense)           (None, 512)               262656    \n",
            "                                                                 \n",
            " dense_256 (Dense)           (None, 6)                 3078      \n",
            "                                                                 \n",
            "=================================================================\n",
            "Total params: 4470790 (17.05 MB)\n",
            "Trainable params: 4470790 (17.05 MB)\n",
            "Non-trainable params: 0 (0.00 Byte)\n",
            "_________________________________________________________________\n"
          ]
        }
      ],
      "source": [
        "# Compilo el modelo creado\n",
        "modelo_1.compile(optimizer='adam',\n",
        "              loss='categorical_crossentropy',\n",
        "              metrics=['accuracy'])\n",
        "modelo_1.summary()"
      ]
    },
    {
      "cell_type": "markdown",
      "metadata": {
        "id": "z_Om7oc23nl-"
      },
      "source": [
        "## Entrenando el modelo"
      ]
    },
    {
      "cell_type": "code",
      "execution_count": null,
      "metadata": {
        "colab": {
          "base_uri": "https://localhost:8080/"
        },
        "id": "RcvhjUwTbXaS",
        "outputId": "ff9400f4-5a61-4b0b-ce73-614c46494c4a"
      },
      "outputs": [
        {
          "name": "stdout",
          "output_type": "stream",
          "text": [
            "Epoch 1/30\n",
            "3174/3174 [==============================] - 32s 8ms/step - loss: 1.5643 - accuracy: 0.3285 - val_loss: 1.5586 - val_accuracy: 0.3403\n",
            "Epoch 2/30\n",
            "3174/3174 [==============================] - 27s 8ms/step - loss: 1.5594 - accuracy: 0.3336 - val_loss: 1.5566 - val_accuracy: 0.3403\n",
            "Epoch 3/30\n",
            "3174/3174 [==============================] - 26s 8ms/step - loss: 1.5590 - accuracy: 0.3336 - val_loss: 1.5562 - val_accuracy: 0.3403\n",
            "Epoch 4/30\n",
            "3174/3174 [==============================] - 27s 8ms/step - loss: 1.5586 - accuracy: 0.3336 - val_loss: 1.5556 - val_accuracy: 0.3403\n",
            "Epoch 5/30\n",
            "3174/3174 [==============================] - 28s 9ms/step - loss: 1.5582 - accuracy: 0.3336 - val_loss: 1.5562 - val_accuracy: 0.3403\n",
            "Epoch 6/30\n",
            "3174/3174 [==============================] - 26s 8ms/step - loss: 1.5578 - accuracy: 0.3336 - val_loss: 1.5598 - val_accuracy: 0.3403\n",
            "Epoch 7/30\n",
            "3174/3174 [==============================] - 27s 8ms/step - loss: 1.5582 - accuracy: 0.3336 - val_loss: 1.5575 - val_accuracy: 0.3403\n",
            "Epoch 8/30\n",
            "3174/3174 [==============================] - 26s 8ms/step - loss: 1.5579 - accuracy: 0.3336 - val_loss: 1.5588 - val_accuracy: 0.3403\n",
            "Epoch 9/30\n",
            "3174/3174 [==============================] - 27s 8ms/step - loss: 1.5579 - accuracy: 0.3336 - val_loss: 1.5556 - val_accuracy: 0.3403\n",
            "Epoch 10/30\n",
            "3174/3174 [==============================] - 26s 8ms/step - loss: 1.5579 - accuracy: 0.3336 - val_loss: 1.5562 - val_accuracy: 0.3403\n",
            "Epoch 11/30\n",
            "3174/3174 [==============================] - 26s 8ms/step - loss: 1.5575 - accuracy: 0.3336 - val_loss: 1.5579 - val_accuracy: 0.3403\n",
            "Epoch 12/30\n",
            "3174/3174 [==============================] - 26s 8ms/step - loss: 1.5573 - accuracy: 0.3336 - val_loss: 1.5602 - val_accuracy: 0.3403\n",
            "Epoch 13/30\n",
            "3174/3174 [==============================] - 27s 9ms/step - loss: 1.5577 - accuracy: 0.3336 - val_loss: 1.5575 - val_accuracy: 0.3403\n",
            "Epoch 14/30\n",
            "3174/3174 [==============================] - 28s 9ms/step - loss: 1.5577 - accuracy: 0.3336 - val_loss: 1.5564 - val_accuracy: 0.3403\n",
            "Epoch 15/30\n",
            "3174/3174 [==============================] - 28s 9ms/step - loss: 1.5574 - accuracy: 0.3336 - val_loss: 1.5567 - val_accuracy: 0.3403\n",
            "Epoch 16/30\n",
            "3174/3174 [==============================] - 31s 10ms/step - loss: 1.5577 - accuracy: 0.3336 - val_loss: 1.5562 - val_accuracy: 0.3403\n",
            "Epoch 17/30\n",
            "3174/3174 [==============================] - 40s 13ms/step - loss: 1.5577 - accuracy: 0.3336 - val_loss: 1.5561 - val_accuracy: 0.3403\n",
            "Epoch 18/30\n",
            "3174/3174 [==============================] - 31s 10ms/step - loss: 1.5575 - accuracy: 0.3336 - val_loss: 1.5567 - val_accuracy: 0.3403\n",
            "Epoch 19/30\n",
            "3174/3174 [==============================] - 29s 9ms/step - loss: 1.5573 - accuracy: 0.3336 - val_loss: 1.5567 - val_accuracy: 0.3403\n",
            "Epoch 20/30\n",
            "3174/3174 [==============================] - 38s 12ms/step - loss: 1.5576 - accuracy: 0.3336 - val_loss: 1.5560 - val_accuracy: 0.3403\n",
            "Epoch 21/30\n",
            "3174/3174 [==============================] - 34s 11ms/step - loss: 1.5572 - accuracy: 0.3336 - val_loss: 1.5576 - val_accuracy: 0.3403\n",
            "Epoch 22/30\n",
            "3174/3174 [==============================] - 28s 9ms/step - loss: 1.5573 - accuracy: 0.3336 - val_loss: 1.5556 - val_accuracy: 0.3403\n",
            "Epoch 23/30\n",
            "3174/3174 [==============================] - 45s 14ms/step - loss: 1.5575 - accuracy: 0.3336 - val_loss: 1.5559 - val_accuracy: 0.3403\n",
            "Epoch 24/30\n",
            "3174/3174 [==============================] - 37s 12ms/step - loss: 1.5576 - accuracy: 0.3336 - val_loss: 1.5560 - val_accuracy: 0.3403\n",
            "Epoch 25/30\n",
            "3174/3174 [==============================] - 32s 10ms/step - loss: 1.5570 - accuracy: 0.3336 - val_loss: 1.5560 - val_accuracy: 0.3403\n",
            "Epoch 26/30\n",
            "3174/3174 [==============================] - 31s 10ms/step - loss: 1.5574 - accuracy: 0.3336 - val_loss: 1.5557 - val_accuracy: 0.3403\n",
            "Epoch 27/30\n",
            "3174/3174 [==============================] - 30s 9ms/step - loss: 1.5574 - accuracy: 0.3336 - val_loss: 1.5558 - val_accuracy: 0.3403\n",
            "Epoch 28/30\n",
            "3174/3174 [==============================] - 27s 9ms/step - loss: 1.5574 - accuracy: 0.3336 - val_loss: 1.5586 - val_accuracy: 0.3403\n",
            "Epoch 29/30\n",
            "3174/3174 [==============================] - 36s 11ms/step - loss: 1.5574 - accuracy: 0.3336 - val_loss: 1.5574 - val_accuracy: 0.3403\n",
            "Epoch 30/30\n",
            "3174/3174 [==============================] - 28s 9ms/step - loss: 1.5573 - accuracy: 0.3336 - val_loss: 1.5569 - val_accuracy: 0.3403\n"
          ]
        }
      ],
      "source": [
        "# Entrenar el modelo\n",
        "history = modelo_1.fit(X_train_scaled, y_train, epochs=30, batch_size=8, validation_split=0.2)"
      ]
    },
    {
      "cell_type": "markdown",
      "metadata": {
        "id": "Fi5vPFUA3nl_"
      },
      "source": [
        "## Evaluando el modelo sobre data de test"
      ]
    },
    {
      "cell_type": "code",
      "execution_count": null,
      "metadata": {
        "colab": {
          "base_uri": "https://localhost:8080/"
        },
        "id": "jjHJ3e5Vb-Fd",
        "outputId": "ad597848-7941-4b26-a868-e9382dbe329f"
      },
      "outputs": [
        {
          "name": "stdout",
          "output_type": "stream",
          "text": [
            "248/248 [==============================] - 2s 7ms/step - loss: 1.5645 - accuracy: 0.3351\n",
            "Test accuracy: 0.3351399004459381\n"
          ]
        }
      ],
      "source": [
        "test_loss, test_acc = modelo_1.evaluate(X_test_scaled, y_test)\n",
        "print(f'Test accuracy: {test_acc}')"
      ]
    },
    {
      "cell_type": "code",
      "execution_count": null,
      "metadata": {
        "colab": {
          "base_uri": "https://localhost:8080/",
          "height": 887
        },
        "id": "ZfGTJPoNGY8B",
        "outputId": "73e17d4d-a51b-49fd-d8c9-33458ffe14d4"
      },
      "outputs": [
        {
          "data": {
            "image/png": "[encoded data removed]",
            "text/plain": [
              "<Figure size 640x480 with 1 Axes>"
            ]
          },
          "metadata": {},
          "output_type": "display_data"
        },
        {
          "data": {
            "image/png": "[encoded data removed]",
            "text/plain": [
              "<Figure size 640x480 with 1 Axes>"
            ]
          },
          "metadata": {},
          "output_type": "display_data"
        }
      ],
      "source": [
        "#Visualizamos la precisión del entrenamiento y de la validación\n",
        "plt.plot(history.history['accuracy'], label='accuracy')\n",
        "plt.plot(history.history['val_accuracy'], label = 'val_accuracy')\n",
        "plt.xlabel('Epoch')\n",
        "plt.ylabel('Accuracy')\n",
        "plt.ylim([0, 1])\n",
        "plt.legend(loc='lower right')\n",
        "plt.show()\n",
        "\n",
        "#Visualizamos la pérdida del entrenamiento y la validación\n",
        "plt.plot(history.history['loss'], label='loss')\n",
        "plt.plot(history.history['val_loss'], label = 'val_loss')\n",
        "plt.xlabel('Epoch')\n",
        "plt.ylabel('Loss')\n",
        "plt.legend(loc='upper right')\n",
        "plt.show()"
      ]
    },
    {
      "cell_type": "markdown",
      "metadata": {
        "id": "8Am2NJuRJYlI"
      },
      "source": [
        "##2° modelo: Utilizando un modelo con 10 capas (ya no con 25)"
      ]
    },
    {
      "cell_type": "code",
      "execution_count": null,
      "metadata": {
        "colab": {
          "base_uri": "https://localhost:8080/"
        },
        "id": "HgibpwwXK2aO",
        "outputId": "93fac4c7-db90-462d-df75-862f7781aa84"
      },
      "outputs": [
        {
          "name": "stdout",
          "output_type": "stream",
          "text": [
            "Model: \"sequential_15\"\n",
            "_________________________________________________________________\n",
            " Layer (type)                Output Shape              Param #   \n",
            "=================================================================\n",
            " dense_266 (Dense)           (None, 256)               1280      \n",
            "                                                                 \n",
            " dense_267 (Dense)           (None, 256)               65792     \n",
            "                                                                 \n",
            " dense_268 (Dense)           (None, 256)               65792     \n",
            "                                                                 \n",
            " dense_269 (Dense)           (None, 256)               65792     \n",
            "                                                                 \n",
            " dense_270 (Dense)           (None, 256)               65792     \n",
            "                                                                 \n",
            " dense_271 (Dense)           (None, 256)               65792     \n",
            "                                                                 \n",
            " dense_272 (Dense)           (None, 256)               65792     \n",
            "                                                                 \n",
            " dense_273 (Dense)           (None, 256)               65792     \n",
            "                                                                 \n",
            " dense_274 (Dense)           (None, 6)                 1542      \n",
            "                                                                 \n",
            "=================================================================\n",
            "Total params: 463366 (1.77 MB)\n",
            "Trainable params: 463366 (1.77 MB)\n",
            "Non-trainable params: 0 (0.00 Byte)\n",
            "_________________________________________________________________\n",
            "Epoch 1/20\n",
            "794/794 [==============================] - 9s 7ms/step - loss: 1.1162 - accuracy: 0.5179 - val_loss: 0.9203 - val_accuracy: 0.6275\n",
            "Epoch 2/20\n",
            "794/794 [==============================] - 5s 6ms/step - loss: 0.8908 - accuracy: 0.6355 - val_loss: 0.8026 - val_accuracy: 0.6710\n",
            "Epoch 3/20\n",
            "794/794 [==============================] - 4s 6ms/step - loss: 0.7769 - accuracy: 0.6870 - val_loss: 0.6711 - val_accuracy: 0.7380\n",
            "Epoch 4/20\n",
            "794/794 [==============================] - 5s 7ms/step - loss: 0.6878 - accuracy: 0.7265 - val_loss: 0.5956 - val_accuracy: 0.7678\n",
            "Epoch 5/20\n",
            "794/794 [==============================] - 4s 5ms/step - loss: 0.6093 - accuracy: 0.7601 - val_loss: 0.5555 - val_accuracy: 0.7944\n",
            "Epoch 6/20\n",
            "794/794 [==============================] - 4s 5ms/step - loss: 0.5453 - accuracy: 0.7869 - val_loss: 0.5282 - val_accuracy: 0.7949\n",
            "Epoch 7/20\n",
            "794/794 [==============================] - 5s 7ms/step - loss: 0.4958 - accuracy: 0.8077 - val_loss: 0.4544 - val_accuracy: 0.8250\n",
            "Epoch 8/20\n",
            "794/794 [==============================] - 4s 6ms/step - loss: 0.4424 - accuracy: 0.8295 - val_loss: 0.4941 - val_accuracy: 0.8155\n",
            "Epoch 9/20\n",
            "794/794 [==============================] - 5s 6ms/step - loss: 0.4027 - accuracy: 0.8472 - val_loss: 0.3819 - val_accuracy: 0.8602\n",
            "Epoch 10/20\n",
            "794/794 [==============================] - 5s 6ms/step - loss: 0.3647 - accuracy: 0.8619 - val_loss: 0.3820 - val_accuracy: 0.8648\n",
            "Epoch 11/20\n",
            "794/794 [==============================] - 4s 5ms/step - loss: 0.3389 - accuracy: 0.8712 - val_loss: 0.3722 - val_accuracy: 0.8645\n",
            "Epoch 12/20\n",
            "794/794 [==============================] - 5s 6ms/step - loss: 0.3098 - accuracy: 0.8821 - val_loss: 0.3445 - val_accuracy: 0.8721\n",
            "Epoch 13/20\n",
            "794/794 [==============================] - 5s 6ms/step - loss: 0.2936 - accuracy: 0.8912 - val_loss: 0.3667 - val_accuracy: 0.8765\n",
            "Epoch 14/20\n",
            "794/794 [==============================] - 4s 5ms/step - loss: 0.2644 - accuracy: 0.9027 - val_loss: 0.3052 - val_accuracy: 0.8943\n",
            "Epoch 15/20\n",
            "794/794 [==============================] - 5s 6ms/step - loss: 0.2537 - accuracy: 0.9054 - val_loss: 0.3434 - val_accuracy: 0.8851\n",
            "Epoch 16/20\n",
            "794/794 [==============================] - 4s 6ms/step - loss: 0.2376 - accuracy: 0.9135 - val_loss: 0.2685 - val_accuracy: 0.9100\n",
            "Epoch 17/20\n",
            "794/794 [==============================] - 4s 5ms/step - loss: 0.2264 - accuracy: 0.9185 - val_loss: 0.2901 - val_accuracy: 0.9031\n",
            "Epoch 18/20\n",
            "794/794 [==============================] - 5s 6ms/step - loss: 0.2275 - accuracy: 0.9176 - val_loss: 0.2750 - val_accuracy: 0.9100\n",
            "Epoch 19/20\n",
            "794/794 [==============================] - 4s 6ms/step - loss: 0.2085 - accuracy: 0.9256 - val_loss: 0.2270 - val_accuracy: 0.9248\n",
            "Epoch 20/20\n",
            "794/794 [==============================] - 4s 5ms/step - loss: 0.1935 - accuracy: 0.9309 - val_loss: 0.2549 - val_accuracy: 0.9151\n",
            "248/248 [==============================] - 1s 4ms/step - loss: 0.2459 - accuracy: 0.9203\n",
            "Test accuracy: 0.9203428030014038\n"
          ]
        }
      ],
      "source": [
        "#Creacion del modelo\n",
        "num_capas_ocultas = 8\n",
        "neuronas_por_capa = 256\n",
        "input_shape = (X_train.shape[1],)\n",
        "num_clases = y_categorical.shape[1]\n",
        "modelo_2 = Crear_modelo(num_capas_ocultas, neuronas_por_capa, input_shape, num_clases)\n",
        "modelo_2.compile(optimizer='adam',loss='categorical_crossentropy',metrics=['accuracy'])\n",
        "modelo_2.summary()\n",
        "#Entrenamiento (Esta vez disminuimos el numero de epocas y aumentamos el batch para reducir la posibilidad de overfitting)\n",
        "modelo_2_trained = modelo_2.fit(X_train_scaled, y_train, epochs=20, batch_size=32, validation_split=0.2)\n",
        "#Evaluacion del modelo\n",
        "test_loss, test_acc = modelo_2.evaluate(X_test_scaled, y_test)\n",
        "print(f'Test accuracy: {test_acc}')"
      ]
    },
    {
      "cell_type": "code",
      "execution_count": null,
      "metadata": {
        "colab": {
          "base_uri": "https://localhost:8080/",
          "height": 887
        },
        "id": "QEJgNc7wOZN5",
        "outputId": "d9908af0-2bfe-4c67-c7e1-ce89ea460879"
      },
      "outputs": [
        {
          "data": {
            "image/png": "[encoded data removed]",
            "text/plain": [
              "<Figure size 640x480 with 1 Axes>"
            ]
          },
          "metadata": {},
          "output_type": "display_data"
        },
        {
          "data": {
            "image/png": "[encoded data removed]",
            "text/plain": [
              "<Figure size 640x480 with 1 Axes>"
            ]
          },
          "metadata": {},
          "output_type": "display_data"
        }
      ],
      "source": [
        "#Visualizamos la precisión del entrenamiento y de la validación\n",
        "plt.plot(modelo_2_trained.history['accuracy'], label='accuracy')\n",
        "plt.plot(modelo_2_trained.history['val_accuracy'], label = 'val_accuracy')\n",
        "plt.xlabel('Epoch')\n",
        "plt.ylabel('Accuracy')\n",
        "plt.ylim([0, 1])\n",
        "plt.legend(loc='lower right')\n",
        "plt.show()\n",
        "\n",
        "#Visualizamos la pérdida del entrenamiento y la validación\n",
        "plt.plot(modelo_2_trained.history['loss'], label='loss')\n",
        "plt.plot(modelo_2_trained.history['val_loss'], label = 'val_loss')\n",
        "plt.xlabel('Epoch')\n",
        "plt.ylabel('Loss')\n",
        "plt.legend(loc='upper right')\n",
        "plt.show()"
      ]
    },
    {
      "cell_type": "markdown",
      "metadata": {
        "id": "MiOdBM57R4rr"
      },
      "source": [
        "## 3er modelo:Utilizando regularization"
      ]
    },
    {
      "cell_type": "code",
      "execution_count": null,
      "metadata": {
        "id": "fQl-e5gZR4aj"
      },
      "outputs": [],
      "source": [
        "from keras import regularizers"
      ]
    },
    {
      "cell_type": "code",
      "execution_count": null,
      "metadata": {
        "colab": {
          "base_uri": "https://localhost:8080/"
        },
        "id": "lfec5s03SEL3",
        "outputId": "a5a79358-2e32-401f-fedb-3b1d5c688f6b"
      },
      "outputs": [
        {
          "name": "stdout",
          "output_type": "stream",
          "text": [
            "Model: \"sequential_16\"\n",
            "_________________________________________________________________\n",
            " Layer (type)                Output Shape              Param #   \n",
            "=================================================================\n",
            " dense_275 (Dense)           (None, 512)               2560      \n",
            "                                                                 \n",
            " dense_276 (Dense)           (None, 512)               262656    \n",
            "                                                                 \n",
            " dense_277 (Dense)           (None, 512)               262656    \n",
            "                                                                 \n",
            " dense_278 (Dense)           (None, 512)               262656    \n",
            "                                                                 \n",
            " dense_279 (Dense)           (None, 512)               262656    \n",
            "                                                                 \n",
            " dense_280 (Dense)           (None, 512)               262656    \n",
            "                                                                 \n",
            " dense_281 (Dense)           (None, 512)               262656    \n",
            "                                                                 \n",
            " dense_282 (Dense)           (None, 512)               262656    \n",
            "                                                                 \n",
            " dense_283 (Dense)           (None, 512)               262656    \n",
            "                                                                 \n",
            " dense_284 (Dense)           (None, 512)               262656    \n",
            "                                                                 \n",
            " dense_285 (Dense)           (None, 512)               262656    \n",
            "                                                                 \n",
            " dense_286 (Dense)           (None, 512)               262656    \n",
            "                                                                 \n",
            " dense_287 (Dense)           (None, 512)               262656    \n",
            "                                                                 \n",
            " dense_288 (Dense)           (None, 512)               262656    \n",
            "                                                                 \n",
            " dense_289 (Dense)           (None, 512)               262656    \n",
            "                                                                 \n",
            " dense_290 (Dense)           (None, 512)               262656    \n",
            "                                                                 \n",
            " dense_291 (Dense)           (None, 512)               262656    \n",
            "                                                                 \n",
            " dense_292 (Dense)           (None, 512)               262656    \n",
            "                                                                 \n",
            " dense_293 (Dense)           (None, 512)               262656    \n",
            "                                                                 \n",
            " dense_294 (Dense)           (None, 6)                 3078      \n",
            "                                                                 \n",
            "=================================================================\n",
            "Total params: 4733446 (18.06 MB)\n",
            "Trainable params: 4733446 (18.06 MB)\n",
            "Non-trainable params: 0 (0.00 Byte)\n",
            "_________________________________________________________________\n"
          ]
        }
      ],
      "source": [
        "modelo_3 = models.Sequential()\n",
        "modelo_3.add(layers.Dense(512, activation='relu', input_shape=(X_train.shape[1],), kernel_regularizer=regularizers.l2(0.001)))\n",
        "for _ in range(18):\n",
        "    modelo_3.add(layers.Dense(512, activation='relu', kernel_regularizer=regularizers.l2(0.001)))\n",
        "\n",
        "modelo_3.add(layers.Dense(y_categorical.shape[1], activation='softmax'))\n",
        "# Compilo el modelo creado\n",
        "modelo_3.compile(optimizer='adam',\n",
        "              loss='categorical_crossentropy',\n",
        "              metrics=['accuracy'])\n",
        "modelo_3.summary()"
      ]
    },
    {
      "cell_type": "code",
      "execution_count": null,
      "metadata": {
        "colab": {
          "base_uri": "https://localhost:8080/"
        },
        "id": "p8fEv0NOTC7o",
        "outputId": "3158fe8a-2e3a-4e80-d251-3bb4ec8233a9"
      },
      "outputs": [
        {
          "name": "stdout",
          "output_type": "stream",
          "text": [
            "Epoch 1/30\n",
            "3174/3174 [==============================] - 36s 9ms/step - loss: 1.6444 - accuracy: 0.3323 - val_loss: 1.5555 - val_accuracy: 0.3403\n",
            "Epoch 2/30\n",
            "3174/3174 [==============================] - 30s 9ms/step - loss: 1.5594 - accuracy: 0.3336 - val_loss: 1.5565 - val_accuracy: 0.3403\n",
            "Epoch 3/30\n",
            "3174/3174 [==============================] - 32s 10ms/step - loss: 1.5589 - accuracy: 0.3336 - val_loss: 1.5565 - val_accuracy: 0.3403\n",
            "Epoch 4/30\n",
            "3174/3174 [==============================] - 30s 9ms/step - loss: 1.5580 - accuracy: 0.3336 - val_loss: 1.5569 - val_accuracy: 0.3403\n",
            "Epoch 5/30\n",
            "3174/3174 [==============================] - 30s 9ms/step - loss: 1.5585 - accuracy: 0.3336 - val_loss: 1.5559 - val_accuracy: 0.3403\n",
            "Epoch 6/30\n",
            "3174/3174 [==============================] - 33s 10ms/step - loss: 1.5582 - accuracy: 0.3336 - val_loss: 1.5566 - val_accuracy: 0.3403\n",
            "Epoch 7/30\n",
            "3174/3174 [==============================] - 30s 9ms/step - loss: 1.5583 - accuracy: 0.3336 - val_loss: 1.5554 - val_accuracy: 0.3403\n",
            "Epoch 8/30\n",
            "3174/3174 [==============================] - 30s 9ms/step - loss: 1.5582 - accuracy: 0.3336 - val_loss: 1.5578 - val_accuracy: 0.3403\n",
            "Epoch 9/30\n",
            "3174/3174 [==============================] - 33s 10ms/step - loss: 1.5580 - accuracy: 0.3336 - val_loss: 1.5593 - val_accuracy: 0.3403\n",
            "Epoch 10/30\n",
            "3174/3174 [==============================] - 30s 10ms/step - loss: 1.5579 - accuracy: 0.3336 - val_loss: 1.5587 - val_accuracy: 0.3403\n",
            "Epoch 11/30\n",
            "3174/3174 [==============================] - 37s 12ms/step - loss: 1.5579 - accuracy: 0.3336 - val_loss: 1.5579 - val_accuracy: 0.3403\n",
            "Epoch 12/30\n",
            "3174/3174 [==============================] - 37s 12ms/step - loss: 1.5579 - accuracy: 0.3336 - val_loss: 1.5563 - val_accuracy: 0.3403\n",
            "Epoch 13/30\n",
            "3174/3174 [==============================] - 41s 13ms/step - loss: 1.5578 - accuracy: 0.3336 - val_loss: 1.5573 - val_accuracy: 0.3403\n",
            "Epoch 14/30\n",
            "3174/3174 [==============================] - 35s 11ms/step - loss: 1.5577 - accuracy: 0.3336 - val_loss: 1.5576 - val_accuracy: 0.3403\n",
            "Epoch 15/30\n",
            "3174/3174 [==============================] - 42s 13ms/step - loss: 1.5578 - accuracy: 0.3336 - val_loss: 1.5561 - val_accuracy: 0.3403\n",
            "Epoch 16/30\n",
            "3174/3174 [==============================] - 33s 10ms/step - loss: 1.5573 - accuracy: 0.3336 - val_loss: 1.5587 - val_accuracy: 0.3403\n",
            "Epoch 17/30\n",
            "3174/3174 [==============================] - 33s 10ms/step - loss: 1.5579 - accuracy: 0.3336 - val_loss: 1.5561 - val_accuracy: 0.3403\n",
            "Epoch 18/30\n",
            "3174/3174 [==============================] - 33s 10ms/step - loss: 1.5571 - accuracy: 0.3336 - val_loss: 1.5559 - val_accuracy: 0.3403\n",
            "Epoch 19/30\n",
            "3174/3174 [==============================] - 34s 11ms/step - loss: 1.5576 - accuracy: 0.3336 - val_loss: 1.5567 - val_accuracy: 0.3403\n",
            "Epoch 20/30\n",
            "3174/3174 [==============================] - 30s 9ms/step - loss: 1.5576 - accuracy: 0.3336 - val_loss: 1.5562 - val_accuracy: 0.3403\n",
            "Epoch 21/30\n",
            "3174/3174 [==============================] - 30s 9ms/step - loss: 1.5575 - accuracy: 0.3336 - val_loss: 1.5557 - val_accuracy: 0.3403\n",
            "Epoch 22/30\n",
            "3174/3174 [==============================] - 30s 10ms/step - loss: 1.5573 - accuracy: 0.3336 - val_loss: 1.5560 - val_accuracy: 0.3403\n",
            "Epoch 23/30\n",
            "3174/3174 [==============================] - 30s 9ms/step - loss: 1.5574 - accuracy: 0.3336 - val_loss: 1.5566 - val_accuracy: 0.3403\n",
            "Epoch 24/30\n",
            "3174/3174 [==============================] - 30s 10ms/step - loss: 1.5576 - accuracy: 0.3336 - val_loss: 1.5570 - val_accuracy: 0.3403\n",
            "Epoch 25/30\n",
            "3174/3174 [==============================] - 30s 10ms/step - loss: 1.5574 - accuracy: 0.3336 - val_loss: 1.5565 - val_accuracy: 0.3403\n",
            "Epoch 26/30\n",
            "3174/3174 [==============================] - 30s 9ms/step - loss: 1.5576 - accuracy: 0.3336 - val_loss: 1.5566 - val_accuracy: 0.3403\n",
            "Epoch 27/30\n",
            "3174/3174 [==============================] - 30s 10ms/step - loss: 1.5574 - accuracy: 0.3336 - val_loss: 1.5554 - val_accuracy: 0.3403\n",
            "Epoch 28/30\n",
            "3174/3174 [==============================] - 31s 10ms/step - loss: 1.5575 - accuracy: 0.3336 - val_loss: 1.5568 - val_accuracy: 0.3403\n",
            "Epoch 29/30\n",
            "3174/3174 [==============================] - 30s 9ms/step - loss: 1.5572 - accuracy: 0.3336 - val_loss: 1.5557 - val_accuracy: 0.3403\n",
            "Epoch 30/30\n",
            "3174/3174 [==============================] - 30s 9ms/step - loss: 1.5575 - accuracy: 0.3336 - val_loss: 1.5561 - val_accuracy: 0.3403\n"
          ]
        }
      ],
      "source": [
        "#Entrenamos el modelo\n",
        "modelo_3_trained = modelo_3.fit(X_train_scaled, y_train, epochs=30, batch_size=8, validation_split=0.2)"
      ]
    },
    {
      "cell_type": "code",
      "execution_count": null,
      "metadata": {
        "colab": {
          "base_uri": "https://localhost:8080/",
          "height": 887
        },
        "id": "xi8h1lJjXAx3",
        "outputId": "778bc7ce-30a1-4c4a-bf86-a7513e7c7d38"
      },
      "outputs": [
        {
          "data": {
            "image/png": "[encoded data removed]",
            "text/plain": [
              "<Figure size 640x480 with 1 Axes>"
            ]
          },
          "metadata": {},
          "output_type": "display_data"
        },
        {
          "data": {
            "image/png": "[encoded data removed]",
            "text/plain": [
              "<Figure size 640x480 with 1 Axes>"
            ]
          },
          "metadata": {},
          "output_type": "display_data"
        }
      ],
      "source": [
        "#Visualizamos la precisión del entrenamiento y de la validación\n",
        "plt.plot(modelo_3_trained.history['accuracy'], label='accuracy')\n",
        "plt.plot(modelo_3_trained.history['val_accuracy'], label = 'val_accuracy')\n",
        "plt.xlabel('Epoch')\n",
        "plt.ylabel('Accuracy')\n",
        "plt.ylim([0, 1])\n",
        "plt.legend(loc='lower right')\n",
        "plt.show()\n",
        "\n",
        "#Visualizamos la pérdida del entrenamiento y la validación\n",
        "plt.plot(modelo_3_trained.history['loss'], label='loss')\n",
        "plt.plot(modelo_3_trained.history['val_loss'], label = 'val_loss')\n",
        "plt.xlabel('Epoch')\n",
        "plt.ylabel('Loss')\n",
        "plt.legend(loc='upper right')\n",
        "plt.show()"
      ]
    },
    {
      "cell_type": "markdown",
      "metadata": {
        "id": "D4nHHeXtUbYR"
      },
      "source": [
        "##4to modelo: Utilizando Dropout"
      ]
    },
    {
      "cell_type": "code",
      "execution_count": null,
      "metadata": {
        "colab": {
          "base_uri": "https://localhost:8080/"
        },
        "id": "rxIS6PLzUa4N",
        "outputId": "15eb60aa-3b11-4508-c570-ff9fe56cd96b"
      },
      "outputs": [
        {
          "name": "stdout",
          "output_type": "stream",
          "text": [
            "Model: \"sequential_18\"\n",
            "_________________________________________________________________\n",
            " Layer (type)                Output Shape              Param #   \n",
            "=================================================================\n",
            " dense_334 (Dense)           (None, 512)               2560      \n",
            "                                                                 \n",
            " dropout_19 (Dropout)        (None, 512)               0         \n",
            "                                                                 \n",
            " dense_335 (Dense)           (None, 512)               262656    \n",
            "                                                                 \n",
            " dropout_20 (Dropout)        (None, 512)               0         \n",
            "                                                                 \n",
            " dense_336 (Dense)           (None, 512)               262656    \n",
            "                                                                 \n",
            " dropout_21 (Dropout)        (None, 512)               0         \n",
            "                                                                 \n",
            " dense_337 (Dense)           (None, 512)               262656    \n",
            "                                                                 \n",
            " dropout_22 (Dropout)        (None, 512)               0         \n",
            "                                                                 \n",
            " dense_338 (Dense)           (None, 512)               262656    \n",
            "                                                                 \n",
            " dropout_23 (Dropout)        (None, 512)               0         \n",
            "                                                                 \n",
            " dense_339 (Dense)           (None, 512)               262656    \n",
            "                                                                 \n",
            " dropout_24 (Dropout)        (None, 512)               0         \n",
            "                                                                 \n",
            " dense_340 (Dense)           (None, 512)               262656    \n",
            "                                                                 \n",
            " dropout_25 (Dropout)        (None, 512)               0         \n",
            "                                                                 \n",
            " dense_341 (Dense)           (None, 512)               262656    \n",
            "                                                                 \n",
            " dropout_26 (Dropout)        (None, 512)               0         \n",
            "                                                                 \n",
            " dense_342 (Dense)           (None, 512)               262656    \n",
            "                                                                 \n",
            " dropout_27 (Dropout)        (None, 512)               0         \n",
            "                                                                 \n",
            " dense_343 (Dense)           (None, 512)               262656    \n",
            "                                                                 \n",
            " dropout_28 (Dropout)        (None, 512)               0         \n",
            "                                                                 \n",
            " dense_344 (Dense)           (None, 512)               262656    \n",
            "                                                                 \n",
            " dropout_29 (Dropout)        (None, 512)               0         \n",
            "                                                                 \n",
            " dense_345 (Dense)           (None, 512)               262656    \n",
            "                                                                 \n",
            " dropout_30 (Dropout)        (None, 512)               0         \n",
            "                                                                 \n",
            " dense_346 (Dense)           (None, 512)               262656    \n",
            "                                                                 \n",
            " dropout_31 (Dropout)        (None, 512)               0         \n",
            "                                                                 \n",
            " dense_347 (Dense)           (None, 512)               262656    \n",
            "                                                                 \n",
            " dropout_32 (Dropout)        (None, 512)               0         \n",
            "                                                                 \n",
            " dense_348 (Dense)           (None, 512)               262656    \n",
            "                                                                 \n",
            " dropout_33 (Dropout)        (None, 512)               0         \n",
            "                                                                 \n",
            " dense_349 (Dense)           (None, 512)               262656    \n",
            "                                                                 \n",
            " dropout_34 (Dropout)        (None, 512)               0         \n",
            "                                                                 \n",
            " dense_350 (Dense)           (None, 512)               262656    \n",
            "                                                                 \n",
            " dropout_35 (Dropout)        (None, 512)               0         \n",
            "                                                                 \n",
            " dense_351 (Dense)           (None, 512)               262656    \n",
            "                                                                 \n",
            " dropout_36 (Dropout)        (None, 512)               0         \n",
            "                                                                 \n",
            " dense_352 (Dense)           (None, 512)               262656    \n",
            "                                                                 \n",
            " dropout_37 (Dropout)        (None, 512)               0         \n",
            "                                                                 \n",
            " dense_353 (Dense)           (None, 6)                 3078      \n",
            "                                                                 \n",
            "=================================================================\n",
            "Total params: 4733446 (18.06 MB)\n",
            "Trainable params: 4733446 (18.06 MB)\n",
            "Non-trainable params: 0 (0.00 Byte)\n",
            "_________________________________________________________________\n",
            "Epoch 1/30\n",
            "3174/3174 [==============================] - 42s 11ms/step - loss: 2.3326 - accuracy: 0.3282 - val_loss: 1.5756 - val_accuracy: 0.3403\n",
            "Epoch 2/30\n",
            "3174/3174 [==============================] - 35s 11ms/step - loss: 1.5655 - accuracy: 0.3330 - val_loss: 1.5591 - val_accuracy: 0.3403\n",
            "Epoch 3/30\n",
            "3174/3174 [==============================] - 53s 17ms/step - loss: 1.5605 - accuracy: 0.3332 - val_loss: 1.5556 - val_accuracy: 0.3403\n",
            "Epoch 4/30\n",
            "3174/3174 [==============================] - 52s 16ms/step - loss: 1.5597 - accuracy: 0.3333 - val_loss: 1.5568 - val_accuracy: 0.3403\n",
            "Epoch 5/30\n",
            "3174/3174 [==============================] - 41s 13ms/step - loss: 1.5597 - accuracy: 0.3335 - val_loss: 1.5575 - val_accuracy: 0.3403\n",
            "Epoch 6/30\n",
            "3174/3174 [==============================] - 36s 11ms/step - loss: 1.5593 - accuracy: 0.3334 - val_loss: 1.5563 - val_accuracy: 0.3403\n",
            "Epoch 7/30\n",
            "3174/3174 [==============================] - 36s 11ms/step - loss: 1.5601 - accuracy: 0.3335 - val_loss: 1.5560 - val_accuracy: 0.3403\n",
            "Epoch 8/30\n",
            "3174/3174 [==============================] - 35s 11ms/step - loss: 1.5585 - accuracy: 0.3334 - val_loss: 1.5558 - val_accuracy: 0.3403\n",
            "Epoch 9/30\n",
            "3174/3174 [==============================] - 37s 12ms/step - loss: 1.5593 - accuracy: 0.3336 - val_loss: 1.5568 - val_accuracy: 0.3403\n",
            "Epoch 10/30\n",
            "3174/3174 [==============================] - 36s 11ms/step - loss: 1.5591 - accuracy: 0.3336 - val_loss: 1.5556 - val_accuracy: 0.3403\n",
            "Epoch 11/30\n",
            "3174/3174 [==============================] - 35s 11ms/step - loss: 1.5588 - accuracy: 0.3336 - val_loss: 1.5570 - val_accuracy: 0.3403\n",
            "Epoch 12/30\n",
            "3174/3174 [==============================] - 46s 14ms/step - loss: 1.5583 - accuracy: 0.3336 - val_loss: 1.5557 - val_accuracy: 0.3403\n",
            "Epoch 13/30\n",
            "3174/3174 [==============================] - 36s 11ms/step - loss: 1.5585 - accuracy: 0.3336 - val_loss: 1.5554 - val_accuracy: 0.3403\n",
            "Epoch 14/30\n",
            "3174/3174 [==============================] - 36s 11ms/step - loss: 1.5576 - accuracy: 0.3336 - val_loss: 1.5575 - val_accuracy: 0.3403\n",
            "Epoch 15/30\n",
            "3174/3174 [==============================] - 38s 12ms/step - loss: 1.5579 - accuracy: 0.3336 - val_loss: 1.5571 - val_accuracy: 0.3403\n",
            "Epoch 16/30\n",
            "3174/3174 [==============================] - 38s 12ms/step - loss: 1.5585 - accuracy: 0.3336 - val_loss: 1.5566 - val_accuracy: 0.3403\n",
            "Epoch 17/30\n",
            "3174/3174 [==============================] - 37s 12ms/step - loss: 1.5578 - accuracy: 0.3336 - val_loss: 1.5562 - val_accuracy: 0.3403\n",
            "Epoch 18/30\n",
            "3174/3174 [==============================] - 40s 13ms/step - loss: 1.5577 - accuracy: 0.3336 - val_loss: 1.5558 - val_accuracy: 0.3403\n",
            "Epoch 19/30\n",
            "3174/3174 [==============================] - 36s 11ms/step - loss: 1.5576 - accuracy: 0.3336 - val_loss: 1.5562 - val_accuracy: 0.3403\n",
            "Epoch 20/30\n",
            "3174/3174 [==============================] - 37s 12ms/step - loss: 1.5577 - accuracy: 0.3336 - val_loss: 1.5560 - val_accuracy: 0.3403\n",
            "Epoch 21/30\n",
            "3174/3174 [==============================] - 48s 15ms/step - loss: 1.5575 - accuracy: 0.3336 - val_loss: 1.5567 - val_accuracy: 0.3403\n",
            "Epoch 22/30\n",
            "3174/3174 [==============================] - 50s 16ms/step - loss: 1.5576 - accuracy: 0.3336 - val_loss: 1.5565 - val_accuracy: 0.3403\n",
            "Epoch 23/30\n",
            "3174/3174 [==============================] - 38s 12ms/step - loss: 1.5574 - accuracy: 0.3336 - val_loss: 1.5556 - val_accuracy: 0.3403\n",
            "Epoch 24/30\n",
            "3174/3174 [==============================] - 45s 14ms/step - loss: 1.5573 - accuracy: 0.3336 - val_loss: 1.5557 - val_accuracy: 0.3403\n",
            "Epoch 25/30\n",
            "3174/3174 [==============================] - 40s 13ms/step - loss: 1.5571 - accuracy: 0.3336 - val_loss: 1.5558 - val_accuracy: 0.3403\n",
            "Epoch 26/30\n",
            "3174/3174 [==============================] - 39s 12ms/step - loss: 1.5570 - accuracy: 0.3336 - val_loss: 1.5561 - val_accuracy: 0.3403\n",
            "Epoch 27/30\n",
            "3174/3174 [==============================] - 39s 12ms/step - loss: 1.5570 - accuracy: 0.3336 - val_loss: 1.5561 - val_accuracy: 0.3403\n",
            "Epoch 28/30\n",
            "3174/3174 [==============================] - 40s 13ms/step - loss: 1.5571 - accuracy: 0.3336 - val_loss: 1.5554 - val_accuracy: 0.3403\n",
            "Epoch 29/30\n",
            "3174/3174 [==============================] - 49s 15ms/step - loss: 1.5571 - accuracy: 0.3336 - val_loss: 1.5557 - val_accuracy: 0.3403\n",
            "Epoch 30/30\n",
            "3174/3174 [==============================] - 38s 12ms/step - loss: 1.5570 - accuracy: 0.3336 - val_loss: 1.5558 - val_accuracy: 0.3403\n"
          ]
        }
      ],
      "source": [
        "modelo_4 = models.Sequential()\n",
        "modelo_4.add(layers.Dense(512, activation='relu', input_shape=(X_train.shape[1],)))\n",
        "modelo_4.add(layers.Dropout(0.5))  #Capa dropout\n",
        "for _ in range(18):\n",
        "    modelo_4.add(layers.Dense(512, activation='relu', kernel_regularizer=regularizers.l2(0.001)))\n",
        "    modelo_4.add(layers.Dropout(0.5))  #Capa dropout despues de cada capa oculta\n",
        "modelo_4.add(layers.Dense(y_categorical.shape[1], activation='softmax'))\n",
        "# Compilo el modelo creado\n",
        "modelo_4.compile(optimizer='adam',\n",
        "              loss='categorical_crossentropy',\n",
        "              metrics=['accuracy'])\n",
        "modelo_4.summary()\n",
        "#Entrenamos el modelo\n",
        "modelo_4_trained = modelo_4.fit(X_train_scaled, y_train, epochs=30, batch_size=8, validation_split=0.2)"
      ]
    },
    {
      "cell_type": "code",
      "execution_count": null,
      "metadata": {
        "colab": {
          "base_uri": "https://localhost:8080/"
        },
        "id": "bZWMUe1wa5-Q",
        "outputId": "1d314589-1d3c-4395-dc15-8dc50fc6cd85"
      },
      "outputs": [
        {
          "name": "stdout",
          "output_type": "stream",
          "text": [
            "248/248 [==============================] - 1s 4ms/step - loss: 1.5647 - accuracy: 0.3351\n",
            "Test accuracy: 0.3351399004459381\n"
          ]
        }
      ],
      "source": [
        "#Evaluación del modelo\n",
        "test_loss, test_acc = modelo_4.evaluate(X_test_scaled, y_test)\n",
        "print(f'Test accuracy: {test_acc}')"
      ]
    },
    {
      "cell_type": "code",
      "execution_count": null,
      "metadata": {
        "colab": {
          "base_uri": "https://localhost:8080/",
          "height": 887
        },
        "id": "gHA1Bb1xYJ3V",
        "outputId": "0cee8a23-5f16-4eff-f63d-40d51b2715b8"
      },
      "outputs": [
        {
          "data": {
            "image/png": "[encoded data removed]",
            "text/plain": [
              "<Figure size 640x480 with 1 Axes>"
            ]
          },
          "metadata": {},
          "output_type": "display_data"
        },
        {
          "data": {
            "image/png": "[encoded data removed]",
            "text/plain": [
              "<Figure size 640x480 with 1 Axes>"
            ]
          },
          "metadata": {},
          "output_type": "display_data"
        }
      ],
      "source": [
        "#Visualizamos la precisión del entrenamiento y de la validación\n",
        "plt.plot(modelo_4_trained.history['accuracy'], label='accuracy')\n",
        "plt.plot(modelo_4_trained.history['val_accuracy'], label = 'val_accuracy')\n",
        "plt.xlabel('Epoch')\n",
        "plt.ylabel('Accuracy')\n",
        "plt.ylim([0, 1])\n",
        "plt.legend(loc='lower right')\n",
        "plt.show()\n",
        "\n",
        "#Visualizamos la pérdida del entrenamiento y la validación\n",
        "plt.plot(modelo_4_trained.history['loss'], label='loss')\n",
        "plt.plot(modelo_4_trained.history['val_loss'], label = 'val_loss')\n",
        "plt.xlabel('Epoch')\n",
        "plt.ylabel('Loss')\n",
        "plt.legend(loc='upper right')\n",
        "plt.show()"
      ]
    },
    {
      "cell_type": "markdown",
      "metadata": {
        "id": "B4L4ueR6Xwjv"
      },
      "source": [
        "## 5to modelo: Combinación de reducción del número de capas ocultas, utilizando regularizacion, dropout, reduciendo número de épocas y aumentando el batch size"
      ]
    },
    {
      "cell_type": "code",
      "execution_count": null,
      "metadata": {
        "colab": {
          "base_uri": "https://localhost:8080/"
        },
        "id": "rAQKX2SqX-s_",
        "outputId": "bd422b80-2cc5-4f9b-82b9-33600f4f1cbb"
      },
      "outputs": [
        {
          "name": "stdout",
          "output_type": "stream",
          "text": [
            "Model: \"sequential_21\"\n",
            "_________________________________________________________________\n",
            " Layer (type)                Output Shape              Param #   \n",
            "=================================================================\n",
            " dense_372 (Dense)           (None, 256)               1280      \n",
            "                                                                 \n",
            " dense_373 (Dense)           (None, 256)               65792     \n",
            "                                                                 \n",
            " dropout_52 (Dropout)        (None, 256)               0         \n",
            "                                                                 \n",
            " dense_374 (Dense)           (None, 256)               65792     \n",
            "                                                                 \n",
            " dropout_53 (Dropout)        (None, 256)               0         \n",
            "                                                                 \n",
            " dense_375 (Dense)           (None, 256)               65792     \n",
            "                                                                 \n",
            " dropout_54 (Dropout)        (None, 256)               0         \n",
            "                                                                 \n",
            " dense_376 (Dense)           (None, 256)               65792     \n",
            "                                                                 \n",
            " dropout_55 (Dropout)        (None, 256)               0         \n",
            "                                                                 \n",
            " dense_377 (Dense)           (None, 256)               65792     \n",
            "                                                                 \n",
            " dropout_56 (Dropout)        (None, 256)               0         \n",
            "                                                                 \n",
            " dense_378 (Dense)           (None, 256)               65792     \n",
            "                                                                 \n",
            " dropout_57 (Dropout)        (None, 256)               0         \n",
            "                                                                 \n",
            " dense_379 (Dense)           (None, 256)               65792     \n",
            "                                                                 \n",
            " dropout_58 (Dropout)        (None, 256)               0         \n",
            "                                                                 \n",
            " dense_380 (Dense)           (None, 256)               65792     \n",
            "                                                                 \n",
            " dropout_59 (Dropout)        (None, 256)               0         \n",
            "                                                                 \n",
            " dense_381 (Dense)           (None, 6)                 1542      \n",
            "                                                                 \n",
            "=================================================================\n",
            "Total params: 529158 (2.02 MB)\n",
            "Trainable params: 529158 (2.02 MB)\n",
            "Non-trainable params: 0 (0.00 Byte)\n",
            "_________________________________________________________________\n",
            "Epoch 1/20\n",
            "794/794 [==============================] - 9s 8ms/step - loss: 2.1817 - accuracy: 0.3724 - val_loss: 1.4479 - val_accuracy: 0.4563\n",
            "Epoch 2/20\n",
            "794/794 [==============================] - 5s 6ms/step - loss: 1.3914 - accuracy: 0.4444 - val_loss: 1.2946 - val_accuracy: 0.4631\n",
            "Epoch 3/20\n",
            "794/794 [==============================] - 6s 8ms/step - loss: 1.3172 - accuracy: 0.4610 - val_loss: 1.2452 - val_accuracy: 0.4917\n",
            "Epoch 4/20\n",
            "794/794 [==============================] - 5s 7ms/step - loss: 1.2945 - accuracy: 0.4619 - val_loss: 1.2066 - val_accuracy: 0.4769\n",
            "Epoch 5/20\n",
            "794/794 [==============================] - 6s 8ms/step - loss: 1.2767 - accuracy: 0.4718 - val_loss: 1.2202 - val_accuracy: 0.4879\n",
            "Epoch 6/20\n",
            "794/794 [==============================] - 5s 7ms/step - loss: 1.2709 - accuracy: 0.4795 - val_loss: 1.2046 - val_accuracy: 0.5053\n",
            "Epoch 7/20\n",
            "794/794 [==============================] - 6s 7ms/step - loss: 1.2615 - accuracy: 0.4878 - val_loss: 1.1903 - val_accuracy: 0.5188\n",
            "Epoch 8/20\n",
            "794/794 [==============================] - 5s 7ms/step - loss: 1.2641 - accuracy: 0.4859 - val_loss: 1.1884 - val_accuracy: 0.5100\n",
            "Epoch 9/20\n",
            "794/794 [==============================] - 5s 7ms/step - loss: 1.2496 - accuracy: 0.4973 - val_loss: 1.1710 - val_accuracy: 0.5144\n",
            "Epoch 10/20\n",
            "794/794 [==============================] - 7s 9ms/step - loss: 1.2459 - accuracy: 0.4981 - val_loss: 1.1701 - val_accuracy: 0.5218\n",
            "Epoch 11/20\n",
            "794/794 [==============================] - 8s 11ms/step - loss: 1.2496 - accuracy: 0.4997 - val_loss: 1.1779 - val_accuracy: 0.5406\n",
            "Epoch 12/20\n",
            "794/794 [==============================] - 8s 10ms/step - loss: 1.2443 - accuracy: 0.5015 - val_loss: 1.1768 - val_accuracy: 0.5300\n",
            "Epoch 13/20\n",
            "794/794 [==============================] - 8s 10ms/step - loss: 1.2428 - accuracy: 0.4976 - val_loss: 1.1637 - val_accuracy: 0.5437\n",
            "Epoch 14/20\n",
            "794/794 [==============================] - 9s 11ms/step - loss: 1.2412 - accuracy: 0.5019 - val_loss: 1.1608 - val_accuracy: 0.5481\n",
            "Epoch 15/20\n",
            "794/794 [==============================] - 9s 12ms/step - loss: 1.2416 - accuracy: 0.4988 - val_loss: 1.1598 - val_accuracy: 0.5327\n",
            "Epoch 16/20\n",
            "794/794 [==============================] - 8s 10ms/step - loss: 1.2409 - accuracy: 0.5019 - val_loss: 1.1683 - val_accuracy: 0.5245\n",
            "Epoch 17/20\n",
            "794/794 [==============================] - 6s 7ms/step - loss: 1.2397 - accuracy: 0.5018 - val_loss: 1.1531 - val_accuracy: 0.5401\n",
            "Epoch 18/20\n",
            "794/794 [==============================] - 6s 7ms/step - loss: 1.2337 - accuracy: 0.5024 - val_loss: 1.1546 - val_accuracy: 0.5357\n",
            "Epoch 19/20\n",
            "794/794 [==============================] - 8s 10ms/step - loss: 1.2310 - accuracy: 0.5078 - val_loss: 1.1718 - val_accuracy: 0.5355\n",
            "Epoch 20/20\n",
            "794/794 [==============================] - 10s 13ms/step - loss: 1.2361 - accuracy: 0.5055 - val_loss: 1.1481 - val_accuracy: 0.5444\n",
            "248/248 [==============================] - 1s 6ms/step - loss: 1.1660 - accuracy: 0.5353\n",
            "Test accuracy: 0.5352911353111267\n"
          ]
        }
      ],
      "source": [
        "modelo_5 = models.Sequential()\n",
        "modelo_5.add(layers.Dense(256, activation='relu', input_shape=(X_train.shape[1],),kernel_regularizer=regularizers.l2(0.001)))\n",
        "for _ in range(8):\n",
        "    modelo_5.add(layers.Dense(256, activation='relu', kernel_regularizer=regularizers.l2(0.001)))\n",
        "    modelo_5.add(layers.Dropout(0.5))\n",
        "modelo_5.add(layers.Dense(y_categorical.shape[1], activation='softmax'))\n",
        "modelo_5.summary()\n",
        "modelo_5.compile(optimizer='adam', loss='categorical_crossentropy', metrics=['accuracy'])\n",
        "\n",
        "#Entrenamiento del modelo\n",
        "modelo_5_trained = modelo_5.fit(X_train_scaled, y_train, epochs=20, batch_size=32,validation_split=0.2)\n",
        "\n",
        "#Evaluación del modelo\n",
        "test_loss, test_acc = modelo_5.evaluate(X_test_scaled, y_test)\n",
        "print(f'Test accuracy: {test_acc}')"
      ]
    },
    {
      "cell_type": "code",
      "execution_count": null,
      "metadata": {
        "colab": {
          "base_uri": "https://localhost:8080/",
          "height": 887
        },
        "id": "N6KHgOnmYGSv",
        "outputId": "a67d8651-c3f0-410b-c6df-94013abe6e1f"
      },
      "outputs": [
        {
          "data": {
            "image/png": "[encoded data removed]",
            "text/plain": [
              "<Figure size 640x480 with 1 Axes>"
            ]
          },
          "metadata": {},
          "output_type": "display_data"
        },
        {
          "data": {
            "image/png": "[encoded data removed]",
            "text/plain": [
              "<Figure size 640x480 with 1 Axes>"
            ]
          },
          "metadata": {},
          "output_type": "display_data"
        }
      ],
      "source": [
        "#Visualizamos la precisión del entrenamiento y de la validación\n",
        "plt.plot(modelo_5_trained.history['accuracy'], label='accuracy')\n",
        "plt.plot(modelo_5_trained.history['val_accuracy'], label = 'val_accuracy')\n",
        "plt.xlabel('Epoch')\n",
        "plt.ylabel('Accuracy')\n",
        "plt.ylim([0, 1])\n",
        "plt.legend(loc='lower right')\n",
        "plt.show()\n",
        "\n",
        "#Visualizamos la pérdida del entrenamiento y la validación\n",
        "plt.plot(modelo_5_trained.history['loss'], label='loss')\n",
        "plt.plot(modelo_5_trained.history['val_loss'], label = 'val_loss')\n",
        "plt.xlabel('Epoch')\n",
        "plt.ylabel('Loss')\n",
        "plt.legend(loc='upper right')\n",
        "plt.show()"
      ]
    },
    {
      "cell_type": "markdown",
      "metadata": {
        "id": "eDOgSP3pdYhQ"
      },
      "source": [
        "## 6to modelo: Utilizando solo regularizacion y un numero pequeño de capas ocultas"
      ]
    },
    {
      "cell_type": "code",
      "execution_count": null,
      "metadata": {
        "colab": {
          "base_uri": "https://localhost:8080/"
        },
        "id": "7f5RH6tQdYQk",
        "outputId": "83c6f104-717e-4074-b539-7e7481a91038"
      },
      "outputs": [
        {
          "name": "stdout",
          "output_type": "stream",
          "text": [
            "Model: \"sequential_22\"\n",
            "_________________________________________________________________\n",
            " Layer (type)                Output Shape              Param #   \n",
            "=================================================================\n",
            " dense_382 (Dense)           (None, 256)               1280      \n",
            "                                                                 \n",
            " dense_383 (Dense)           (None, 256)               65792     \n",
            "                                                                 \n",
            " dense_384 (Dense)           (None, 256)               65792     \n",
            "                                                                 \n",
            " dense_385 (Dense)           (None, 256)               65792     \n",
            "                                                                 \n",
            " dense_386 (Dense)           (None, 256)               65792     \n",
            "                                                                 \n",
            " dense_387 (Dense)           (None, 256)               65792     \n",
            "                                                                 \n",
            " dense_388 (Dense)           (None, 256)               65792     \n",
            "                                                                 \n",
            " dense_389 (Dense)           (None, 256)               65792     \n",
            "                                                                 \n",
            " dense_390 (Dense)           (None, 256)               65792     \n",
            "                                                                 \n",
            " dense_391 (Dense)           (None, 6)                 1542      \n",
            "                                                                 \n",
            "=================================================================\n",
            "Total params: 529158 (2.02 MB)\n",
            "Trainable params: 529158 (2.02 MB)\n",
            "Non-trainable params: 0 (0.00 Byte)\n",
            "_________________________________________________________________\n",
            "Epoch 1/20\n",
            "794/794 [==============================] - 9s 8ms/step - loss: 1.5305 - accuracy: 0.4563 - val_loss: 1.2206 - val_accuracy: 0.5385\n",
            "Epoch 2/20\n",
            "794/794 [==============================] - 5s 6ms/step - loss: 1.1964 - accuracy: 0.5389 - val_loss: 1.1466 - val_accuracy: 0.5697\n",
            "Epoch 3/20\n",
            "794/794 [==============================] - 5s 6ms/step - loss: 1.1363 - accuracy: 0.5661 - val_loss: 1.0790 - val_accuracy: 0.5951\n",
            "Epoch 4/20\n",
            "794/794 [==============================] - 5s 7ms/step - loss: 1.1050 - accuracy: 0.5886 - val_loss: 1.0315 - val_accuracy: 0.6193\n",
            "Epoch 5/20\n",
            "794/794 [==============================] - 5s 6ms/step - loss: 1.0693 - accuracy: 0.6105 - val_loss: 0.9991 - val_accuracy: 0.6523\n",
            "Epoch 6/20\n",
            "794/794 [==============================] - 6s 7ms/step - loss: 1.0470 - accuracy: 0.6268 - val_loss: 1.0210 - val_accuracy: 0.6412\n",
            "Epoch 7/20\n",
            "794/794 [==============================] - 5s 6ms/step - loss: 1.0224 - accuracy: 0.6411 - val_loss: 0.9587 - val_accuracy: 0.6735\n",
            "Epoch 8/20\n",
            "794/794 [==============================] - 5s 6ms/step - loss: 0.9889 - accuracy: 0.6602 - val_loss: 0.9455 - val_accuracy: 0.6787\n",
            "Epoch 9/20\n",
            "794/794 [==============================] - 6s 7ms/step - loss: 0.9686 - accuracy: 0.6758 - val_loss: 1.0226 - val_accuracy: 0.6542\n",
            "Epoch 10/20\n",
            "794/794 [==============================] - 5s 6ms/step - loss: 0.9501 - accuracy: 0.6846 - val_loss: 0.8778 - val_accuracy: 0.7270\n",
            "Epoch 11/20\n",
            "794/794 [==============================] - 6s 8ms/step - loss: 0.9304 - accuracy: 0.6943 - val_loss: 0.9284 - val_accuracy: 0.6986\n",
            "Epoch 12/20\n",
            "794/794 [==============================] - 5s 6ms/step - loss: 0.9082 - accuracy: 0.7084 - val_loss: 0.8982 - val_accuracy: 0.7022\n",
            "Epoch 13/20\n",
            "794/794 [==============================] - 5s 6ms/step - loss: 0.8911 - accuracy: 0.7185 - val_loss: 0.8497 - val_accuracy: 0.7348\n",
            "Epoch 14/20\n",
            "794/794 [==============================] - 6s 7ms/step - loss: 0.8771 - accuracy: 0.7290 - val_loss: 0.8653 - val_accuracy: 0.7392\n",
            "Epoch 15/20\n",
            "794/794 [==============================] - 5s 6ms/step - loss: 0.8594 - accuracy: 0.7355 - val_loss: 0.8458 - val_accuracy: 0.7503\n",
            "Epoch 16/20\n",
            "794/794 [==============================] - 5s 7ms/step - loss: 0.8446 - accuracy: 0.7423 - val_loss: 0.8291 - val_accuracy: 0.7515\n",
            "Epoch 17/20\n",
            "794/794 [==============================] - 5s 6ms/step - loss: 0.8333 - accuracy: 0.7492 - val_loss: 0.8010 - val_accuracy: 0.7604\n",
            "Epoch 18/20\n",
            "794/794 [==============================] - 5s 6ms/step - loss: 0.8153 - accuracy: 0.7576 - val_loss: 0.8072 - val_accuracy: 0.7670\n",
            "Epoch 19/20\n",
            "794/794 [==============================] - 6s 8ms/step - loss: 0.8042 - accuracy: 0.7615 - val_loss: 0.8182 - val_accuracy: 0.7589\n",
            "Epoch 20/20\n",
            "794/794 [==============================] - 5s 6ms/step - loss: 0.7975 - accuracy: 0.7664 - val_loss: 0.7644 - val_accuracy: 0.7842\n",
            "248/248 [==============================] - 1s 3ms/step - loss: 0.7826 - accuracy: 0.7740\n",
            "Test accuracy: 0.7740105986595154\n"
          ]
        }
      ],
      "source": [
        "modelo_6 = models.Sequential()\n",
        "modelo_6.add(layers.Dense(256, activation='relu', input_shape=(X_train.shape[1],),kernel_regularizer=regularizers.l2(0.001)))\n",
        "for _ in range(8):\n",
        "    modelo_6.add(layers.Dense(256, activation='relu', kernel_regularizer=regularizers.l2(0.001)))\n",
        "modelo_6.add(layers.Dense(y_categorical.shape[1], activation='softmax'))\n",
        "modelo_6.summary()\n",
        "modelo_6.compile(optimizer='adam', loss='categorical_crossentropy', metrics=['accuracy'])\n",
        "\n",
        "#Entrenamiento del modelo\n",
        "modelo_6_trained = modelo_6.fit(X_train_scaled, y_train, epochs=20, batch_size=32,validation_split=0.2)\n",
        "\n",
        "#Evaluación del modelo\n",
        "test_loss, test_acc = modelo_6.evaluate(X_test_scaled, y_test)\n",
        "print(f'Test accuracy: {test_acc}')"
      ]
    },
    {
      "cell_type": "code",
      "execution_count": null,
      "metadata": {
        "colab": {
          "base_uri": "https://localhost:8080/",
          "height": 887
        },
        "id": "AqR9l9bXdp58",
        "outputId": "d8af2bb8-3d16-45fe-b573-a6e6ff3558d0"
      },
      "outputs": [
        {
          "data": {
            "image/png": "[encoded data removed]",
            "text/plain": [
              "<Figure size 640x480 with 1 Axes>"
            ]
          },
          "metadata": {},
          "output_type": "display_data"
        },
        {
          "data": {
            "image/png": "[encoded data removed]",
            "text/plain": [
              "<Figure size 640x480 with 1 Axes>"
            ]
          },
          "metadata": {},
          "output_type": "display_data"
        }
      ],
      "source": [
        "#Visualizamos la precisión del entrenamiento y de la validación\n",
        "plt.plot(modelo_6_trained.history['accuracy'], label='accuracy')\n",
        "plt.plot(modelo_6_trained.history['val_accuracy'], label = 'val_accuracy')\n",
        "plt.xlabel('Epoch')\n",
        "plt.ylabel('Accuracy')\n",
        "plt.ylim([0, 1])\n",
        "plt.legend(loc='lower right')\n",
        "plt.show()\n",
        "\n",
        "#Visualizamos la pérdida del entrenamiento y la validación\n",
        "plt.plot(modelo_6_trained.history['loss'], label='loss')\n",
        "plt.plot(modelo_6_trained.history['val_loss'], label = 'val_loss')\n",
        "plt.xlabel('Epoch')\n",
        "plt.ylabel('Loss')\n",
        "plt.legend(loc='upper right')\n",
        "plt.show()"
      ]
    },
    {
      "cell_type": "markdown",
      "metadata": {
        "id": "DTMiscz4fisD"
      },
      "source": [
        "Comparando los resultados de cada modelo, cuando el numero de capas ocultas es alto (en este caso tan solo 18 capas), el numero de epocas es mayor, el modelo tiende a un ligero overfitting al comparar el entrenamiento con el proceso de validacion en el tiempo, pero sobre todo, presenta un accuracy bajo.\n",
        "\n",
        "Al reducir el numero de capas ocultas a 8, el accuracy y la perdida (loss) se asemeja entre el entrenamiento y validacion y se alcanza un accuracy promedio de 0.9203428030014038. Este valor, es el más alto alcanzado, incluso mayor al accuracy que se obtiene al mezclar modelos con dropout y regularizacion juntos.\n"
      ]
    },
    {
      "cell_type": "markdown",
      "metadata": {
        "id": "j0xOFzmELb6c"
      },
      "source": [
        "##Claisificacion con Modelo CNN"
      ]
    },
    {
      "cell_type": "code",
      "execution_count": 21,
      "metadata": {
        "id": "ycVnkS82QsKo"
      },
      "outputs": [],
      "source": [
        "X_train = X_train / 255.0\n",
        "X_test = X_test / 255.0"
      ]
    },
    {
      "cell_type": "code",
      "execution_count": 20,
      "metadata": {
        "id": "h-lMbulcQvVD"
      },
      "outputs": [],
      "source": [
        "def Crear_modelo_CNN(input_shape, num_clases):\n",
        "    model = models.Sequential()\n",
        "    model.add(layers.Conv2D(32, (3, 3), activation='relu', input_shape=input_shape))\n",
        "    model.add(layers.MaxPooling2D((2, 2)))\n",
        "    model.add(layers.Conv2D(64, (3, 3), activation='relu'))\n",
        "    model.add(layers.MaxPooling2D((2, 2)))\n",
        "    model.add(layers.Conv2D(64, (3, 3), activation='relu'))\n",
        "    model.add(layers.MaxPooling2D((2, 2)))\n",
        "\n",
        "    model.add(layers.Flatten())\n",
        "\n",
        "    model.add(layers.Dense(64, activation='relu'))\n",
        "    model.add(layers.Dense(num_clases, activation='softmax'))\n",
        "\n",
        "    return model"
      ]
    },
    {
      "cell_type": "code",
      "execution_count": 23,
      "metadata": {
        "colab": {
          "base_uri": "https://localhost:8080/",
          "height": 211
        },
        "id": "6Uwg5SUGRF7J",
        "outputId": "a92ed54f-253d-42e5-8683-142152d20109"
      },
      "outputs": [
        {
          "name": "stdout",
          "output_type": "stream",
          "text": [
            "(31734, 4)\n"
          ]
        },
        {
          "ename": "IndexError",
          "evalue": "tuple index out of range",
          "output_type": "error",
          "traceback": [
            "\u001b[0;31m---------------------------------------------------------------------------\u001b[0m",
            "\u001b[0;31mIndexError\u001b[0m                                Traceback (most recent call last)",
            "\u001b[0;32m<ipython-input-23-9bd8b5e7715e>\u001b[0m in \u001b[0;36m<cell line: 3>\u001b[0;34m()\u001b[0m\n\u001b[1;32m      1\u001b[0m \u001b[0;31m#Definicion de la forma del tensor de entrada:https://www.tensorflow.org/tutorials/images/cnn\u001b[0m\u001b[0;34m\u001b[0m\u001b[0;34m\u001b[0m\u001b[0m\n\u001b[1;32m      2\u001b[0m \u001b[0mprint\u001b[0m\u001b[0;34m(\u001b[0m\u001b[0mX_train\u001b[0m\u001b[0;34m.\u001b[0m\u001b[0mshape\u001b[0m\u001b[0;34m)\u001b[0m\u001b[0;34m\u001b[0m\u001b[0;34m\u001b[0m\u001b[0m\n\u001b[0;32m----> 3\u001b[0;31m \u001b[0minput_shape\u001b[0m \u001b[0;34m=\u001b[0m \u001b[0;34m(\u001b[0m\u001b[0mX_train\u001b[0m\u001b[0;34m.\u001b[0m\u001b[0mshape\u001b[0m\u001b[0;34m[\u001b[0m\u001b[0;36m1\u001b[0m\u001b[0;34m]\u001b[0m\u001b[0;34m,\u001b[0m \u001b[0mX_train\u001b[0m\u001b[0;34m.\u001b[0m\u001b[0mshape\u001b[0m\u001b[0;34m[\u001b[0m\u001b[0;36m2\u001b[0m\u001b[0;34m]\u001b[0m\u001b[0;34m,\u001b[0m \u001b[0mX_train\u001b[0m\u001b[0;34m.\u001b[0m\u001b[0mshape\u001b[0m\u001b[0;34m[\u001b[0m\u001b[0;36m3\u001b[0m\u001b[0;34m]\u001b[0m\u001b[0;34m)\u001b[0m\u001b[0;34m\u001b[0m\u001b[0;34m\u001b[0m\u001b[0m\n\u001b[0m\u001b[1;32m      4\u001b[0m \u001b[0mnum_clases\u001b[0m \u001b[0;34m=\u001b[0m \u001b[0my_categorical\u001b[0m\u001b[0;34m.\u001b[0m\u001b[0mshape\u001b[0m\u001b[0;34m[\u001b[0m\u001b[0;36m1\u001b[0m\u001b[0;34m]\u001b[0m\u001b[0;34m\u001b[0m\u001b[0;34m\u001b[0m\u001b[0m\n",
            "\u001b[0;31mIndexError\u001b[0m: tuple index out of range"
          ]
        }
      ],
      "source": [
        "#Definicion de la forma del tensor de entrada:https://www.tensorflow.org/tutorials/images/cnn\n",
        "print(X_train.shape)\n",
        "input_shape = (X_train.shape[1], X_train.shape[2], X_train.shape[3])\n",
        "num_clases = y_categorical.shape[1]"
      ]
    },
    {
      "cell_type": "code",
      "execution_count": 19,
      "metadata": {
        "colab": {
          "base_uri": "https://localhost:8080/",
          "height": 391
        },
        "id": "DjlI84szM777",
        "outputId": "9cb4ba34-a5d4-4a63-9064-dbd195e22e61"
      },
      "outputs": [
        {
          "ename": "ValueError",
          "evalue": "Input 0 of layer \"conv2d_4\" is incompatible with the layer: expected min_ndim=4, found ndim=2. Full shape received: (None, 4)",
          "output_type": "error",
          "traceback": [
            "\u001b[0;31m---------------------------------------------------------------------------\u001b[0m",
            "\u001b[0;31mValueError\u001b[0m                                Traceback (most recent call last)",
            "\u001b[0;32m<ipython-input-19-482da5af8342>\u001b[0m in \u001b[0;36m<cell line: 3>\u001b[0;34m()\u001b[0m\n\u001b[1;32m      1\u001b[0m \u001b[0;31m#Modelo CNN\u001b[0m\u001b[0;34m\u001b[0m\u001b[0;34m\u001b[0m\u001b[0m\n\u001b[1;32m      2\u001b[0m \u001b[0mmodelCNN\u001b[0m \u001b[0;34m=\u001b[0m \u001b[0mmodels\u001b[0m\u001b[0;34m.\u001b[0m\u001b[0mSequential\u001b[0m\u001b[0;34m(\u001b[0m\u001b[0;34m)\u001b[0m\u001b[0;34m\u001b[0m\u001b[0;34m\u001b[0m\u001b[0m\n\u001b[0;32m----> 3\u001b[0;31m \u001b[0mmodelCNN\u001b[0m\u001b[0;34m.\u001b[0m\u001b[0madd\u001b[0m\u001b[0;34m(\u001b[0m\u001b[0mlayers\u001b[0m\u001b[0;34m.\u001b[0m\u001b[0mConv2D\u001b[0m\u001b[0;34m(\u001b[0m\u001b[0;36m32\u001b[0m\u001b[0;34m,\u001b[0m \u001b[0;34m(\u001b[0m\u001b[0;36m3\u001b[0m\u001b[0;34m,\u001b[0m \u001b[0;36m3\u001b[0m\u001b[0;34m)\u001b[0m\u001b[0;34m,\u001b[0m \u001b[0mactivation\u001b[0m\u001b[0;34m=\u001b[0m\u001b[0;34m'relu'\u001b[0m\u001b[0;34m,\u001b[0m \u001b[0minput_shape\u001b[0m\u001b[0;34m=\u001b[0m\u001b[0;34m(\u001b[0m\u001b[0mX_train\u001b[0m\u001b[0;34m.\u001b[0m\u001b[0mshape\u001b[0m\u001b[0;34m[\u001b[0m\u001b[0;36m1\u001b[0m\u001b[0;34m]\u001b[0m\u001b[0;34m,\u001b[0m\u001b[0;34m)\u001b[0m\u001b[0;34m)\u001b[0m\u001b[0;34m)\u001b[0m\u001b[0;34m\u001b[0m\u001b[0;34m\u001b[0m\u001b[0m\n\u001b[0m\u001b[1;32m      4\u001b[0m \u001b[0mmodelCNN\u001b[0m\u001b[0;34m.\u001b[0m\u001b[0madd\u001b[0m\u001b[0;34m(\u001b[0m\u001b[0mlayers\u001b[0m\u001b[0;34m.\u001b[0m\u001b[0mMaxPooling2D\u001b[0m\u001b[0;34m(\u001b[0m\u001b[0;34m(\u001b[0m\u001b[0;36m2\u001b[0m\u001b[0;34m,\u001b[0m \u001b[0;36m2\u001b[0m\u001b[0;34m)\u001b[0m\u001b[0;34m)\u001b[0m\u001b[0;34m)\u001b[0m\u001b[0;34m\u001b[0m\u001b[0;34m\u001b[0m\u001b[0m\n\u001b[1;32m      5\u001b[0m \u001b[0mmodelCNN\u001b[0m\u001b[0;34m.\u001b[0m\u001b[0madd\u001b[0m\u001b[0;34m(\u001b[0m\u001b[0mlayers\u001b[0m\u001b[0;34m.\u001b[0m\u001b[0mConv2D\u001b[0m\u001b[0;34m(\u001b[0m\u001b[0;36m64\u001b[0m\u001b[0;34m,\u001b[0m \u001b[0;34m(\u001b[0m\u001b[0;36m3\u001b[0m\u001b[0;34m,\u001b[0m \u001b[0;36m3\u001b[0m\u001b[0;34m)\u001b[0m\u001b[0;34m,\u001b[0m \u001b[0mactivation\u001b[0m\u001b[0;34m=\u001b[0m\u001b[0;34m'relu'\u001b[0m\u001b[0;34m)\u001b[0m\u001b[0;34m)\u001b[0m\u001b[0;34m\u001b[0m\u001b[0;34m\u001b[0m\u001b[0m\n",
            "\u001b[0;32m/usr/local/lib/python3.10/dist-packages/tensorflow/python/trackable/base.py\u001b[0m in \u001b[0;36m_method_wrapper\u001b[0;34m(self, *args, **kwargs)\u001b[0m\n\u001b[1;32m    202\u001b[0m     \u001b[0mself\u001b[0m\u001b[0;34m.\u001b[0m\u001b[0m_self_setattr_tracking\u001b[0m \u001b[0;34m=\u001b[0m \u001b[0;32mFalse\u001b[0m  \u001b[0;31m# pylint: disable=protected-access\u001b[0m\u001b[0;34m\u001b[0m\u001b[0;34m\u001b[0m\u001b[0m\n\u001b[1;32m    203\u001b[0m     \u001b[0;32mtry\u001b[0m\u001b[0;34m:\u001b[0m\u001b[0;34m\u001b[0m\u001b[0;34m\u001b[0m\u001b[0m\n\u001b[0;32m--> 204\u001b[0;31m       \u001b[0mresult\u001b[0m \u001b[0;34m=\u001b[0m \u001b[0mmethod\u001b[0m\u001b[0;34m(\u001b[0m\u001b[0mself\u001b[0m\u001b[0;34m,\u001b[0m \u001b[0;34m*\u001b[0m\u001b[0margs\u001b[0m\u001b[0;34m,\u001b[0m \u001b[0;34m**\u001b[0m\u001b[0mkwargs\u001b[0m\u001b[0;34m)\u001b[0m\u001b[0;34m\u001b[0m\u001b[0;34m\u001b[0m\u001b[0m\n\u001b[0m\u001b[1;32m    205\u001b[0m     \u001b[0;32mfinally\u001b[0m\u001b[0;34m:\u001b[0m\u001b[0;34m\u001b[0m\u001b[0;34m\u001b[0m\u001b[0m\n\u001b[1;32m    206\u001b[0m       \u001b[0mself\u001b[0m\u001b[0;34m.\u001b[0m\u001b[0m_self_setattr_tracking\u001b[0m \u001b[0;34m=\u001b[0m \u001b[0mprevious_value\u001b[0m  \u001b[0;31m# pylint: disable=protected-access\u001b[0m\u001b[0;34m\u001b[0m\u001b[0;34m\u001b[0m\u001b[0m\n",
            "\u001b[0;32m/usr/local/lib/python3.10/dist-packages/keras/src/utils/traceback_utils.py\u001b[0m in \u001b[0;36merror_handler\u001b[0;34m(*args, **kwargs)\u001b[0m\n\u001b[1;32m     68\u001b[0m             \u001b[0;31m# To get the full stack trace, call:\u001b[0m\u001b[0;34m\u001b[0m\u001b[0;34m\u001b[0m\u001b[0m\n\u001b[1;32m     69\u001b[0m             \u001b[0;31m# `tf.debugging.disable_traceback_filtering()`\u001b[0m\u001b[0;34m\u001b[0m\u001b[0;34m\u001b[0m\u001b[0m\n\u001b[0;32m---> 70\u001b[0;31m             \u001b[0;32mraise\u001b[0m \u001b[0me\u001b[0m\u001b[0;34m.\u001b[0m\u001b[0mwith_traceback\u001b[0m\u001b[0;34m(\u001b[0m\u001b[0mfiltered_tb\u001b[0m\u001b[0;34m)\u001b[0m \u001b[0;32mfrom\u001b[0m \u001b[0;32mNone\u001b[0m\u001b[0;34m\u001b[0m\u001b[0;34m\u001b[0m\u001b[0m\n\u001b[0m\u001b[1;32m     71\u001b[0m         \u001b[0;32mfinally\u001b[0m\u001b[0;34m:\u001b[0m\u001b[0;34m\u001b[0m\u001b[0;34m\u001b[0m\u001b[0m\n\u001b[1;32m     72\u001b[0m             \u001b[0;32mdel\u001b[0m \u001b[0mfiltered_tb\u001b[0m\u001b[0;34m\u001b[0m\u001b[0;34m\u001b[0m\u001b[0m\n",
            "\u001b[0;32m/usr/local/lib/python3.10/dist-packages/keras/src/engine/input_spec.py\u001b[0m in \u001b[0;36massert_input_compatibility\u001b[0;34m(input_spec, inputs, layer_name)\u001b[0m\n\u001b[1;32m    251\u001b[0m             \u001b[0mndim\u001b[0m \u001b[0;34m=\u001b[0m \u001b[0mx\u001b[0m\u001b[0;34m.\u001b[0m\u001b[0mshape\u001b[0m\u001b[0;34m.\u001b[0m\u001b[0mrank\u001b[0m\u001b[0;34m\u001b[0m\u001b[0;34m\u001b[0m\u001b[0m\n\u001b[1;32m    252\u001b[0m             \u001b[0;32mif\u001b[0m \u001b[0mndim\u001b[0m \u001b[0;32mis\u001b[0m \u001b[0;32mnot\u001b[0m \u001b[0;32mNone\u001b[0m \u001b[0;32mand\u001b[0m \u001b[0mndim\u001b[0m \u001b[0;34m<\u001b[0m \u001b[0mspec\u001b[0m\u001b[0;34m.\u001b[0m\u001b[0mmin_ndim\u001b[0m\u001b[0;34m:\u001b[0m\u001b[0;34m\u001b[0m\u001b[0;34m\u001b[0m\u001b[0m\n\u001b[0;32m--> 253\u001b[0;31m                 raise ValueError(\n\u001b[0m\u001b[1;32m    254\u001b[0m                     \u001b[0;34mf'Input {input_index} of layer \"{layer_name}\" '\u001b[0m\u001b[0;34m\u001b[0m\u001b[0;34m\u001b[0m\u001b[0m\n\u001b[1;32m    255\u001b[0m                     \u001b[0;34m\"is incompatible with the layer: \"\u001b[0m\u001b[0;34m\u001b[0m\u001b[0;34m\u001b[0m\u001b[0m\n",
            "\u001b[0;31mValueError\u001b[0m: Input 0 of layer \"conv2d_4\" is incompatible with the layer: expected min_ndim=4, found ndim=2. Full shape received: (None, 4)"
          ]
        }
      ],
      "source": [
        "#Modelo CNN\n",
        "modelCNN = models.Sequential()\n",
        "modelCNN.add(layers.Conv2D(32, (3, 3), activation='relu', input_shape=(X_train.shape[1],)))\n",
        "modelCNN.add(layers.MaxPooling2D((2, 2)))\n",
        "modelCNN.add(layers.Conv2D(64, (3, 3), activation='relu'))\n",
        "modelCNN.add(layers.MaxPooling2D((2, 2)))\n",
        "modelCNN.add(layers.Conv2D(64, (3, 3), activation='relu'))\n",
        "modelCNN.add(layers.Flatten())\n",
        "modelCNN.add(layers.Dense(64, activation='relu'))\n",
        "modelCNN.add(layers.Dense(10))"
      ]
    },
    {
      "cell_type": "code",
      "execution_count": null,
      "metadata": {
        "id": "NrOgqOLdRgw6"
      },
      "outputs": [],
      "source": [
        "#Creacion del modelo\n",
        "modelo_cnn = Crear_modelo_CNN(input_shape, num_clases)\n",
        "\n",
        "#Compilamos el modelo\n",
        "modelo_cnn.compile(optimizer='adam', loss='categorical_crossentropy', metrics=['accuracy'])"
      ]
    },
    {
      "cell_type": "code",
      "execution_count": null,
      "metadata": {
        "id": "iNayHG-CQ_MD"
      },
      "outputs": [],
      "source": [
        "modelo_cnn.summary()"
      ]
    },
    {
      "cell_type": "code",
      "execution_count": null,
      "metadata": {
        "id": "qUQJx1uLQxYX"
      },
      "outputs": [],
      "source": [
        "# Entrenamiento del modelo\n",
        "modelo_cnn_trained = modelo_cnn.fit(X_train, y_train, epochs=20, batch_size=32, validation_split=0.2)\n"
      ]
    },
    {
      "cell_type": "code",
      "execution_count": null,
      "metadata": {
        "id": "n2g5onPHQy-X"
      },
      "outputs": [],
      "source": [
        "# Evaluación del modelo\n",
        "test_loss, test_acc = modelo_cnn.evaluate(X_test, y_test)\n",
        "print(f'Test accuracy: {test_acc}')\n"
      ]
    },
    {
      "cell_type": "code",
      "execution_count": 15,
      "metadata": {
        "colab": {
          "base_uri": "https://localhost:8080/",
          "height": 205
        },
        "id": "WWvi3XsUNaCU",
        "outputId": "f96dfcb7-dc25-48ac-bbac-318e109d0dd9"
      },
      "outputs": [
        {
          "data": {
            "text/html": [
              "<div style=\"max-width:800px; border: 1px solid var(--colab-border-color);\"><style>\n",
              "      pre.function-repr-contents {\n",
              "        overflow-x: auto;\n",
              "        padding: 8px 12px;\n",
              "        max-height: 500px;\n",
              "      }\n",
              "\n",
              "      pre.function-repr-contents.function-repr-contents-collapsed {\n",
              "        cursor: pointer;\n",
              "        max-height: 100px;\n",
              "      }\n",
              "    </style>\n",
              "    <pre style=\"white-space: initial; background:\n",
              "         var(--colab-secondary-surface-color); padding: 8px 12px;\n",
              "         border-bottom: 1px solid var(--colab-border-color);\"><b>keras.src.engine.training.Model.summary</b><br/>def summary(line_length=None, positions=None, print_fn=None, expand_nested=False, show_trainable=False, layer_range=None)</pre><pre class=\"function-repr-contents function-repr-contents-collapsed\" style=\"\"><a class=\"filepath\" style=\"display:none\" href=\"#\">/usr/local/lib/python3.10/dist-packages/keras/src/engine/training.py</a>Prints a string summary of the network.\n",
              "\n",
              "Args:\n",
              "    line_length: Total length of printed lines\n",
              "        (e.g. set this to adapt the display to different\n",
              "        terminal window sizes).\n",
              "    positions: Relative or absolute positions of log elements\n",
              "        in each line. If not provided, becomes\n",
              "        `[0.3, 0.6, 0.70, 1.]`. Defaults to `None`.\n",
              "    print_fn: Print function to use. By default, prints to `stdout`.\n",
              "        If `stdout` doesn&#x27;t work in your environment, change to `print`.\n",
              "        It will be called on each line of the summary.\n",
              "        You can set it to a custom function\n",
              "        in order to capture the string summary.\n",
              "    expand_nested: Whether to expand the nested models.\n",
              "        Defaults to `False`.\n",
              "    show_trainable: Whether to show if a layer is trainable.\n",
              "        Defaults to `False`.\n",
              "    layer_range: a list or tuple of 2 strings,\n",
              "        which is the starting layer name and ending layer name\n",
              "        (both inclusive) indicating the range of layers to be printed\n",
              "        in summary. It also accepts regex patterns instead of exact\n",
              "        name. In such case, start predicate will be the first element\n",
              "        it matches to `layer_range[0]` and the end predicate will be\n",
              "        the last element it matches to `layer_range[1]`.\n",
              "        By default `None` which considers all layers of model.\n",
              "\n",
              "Raises:\n",
              "    ValueError: if `summary()` is called before the model is built.</pre>\n",
              "      <script>\n",
              "      if (google.colab.kernel.accessAllowed && google.colab.files && google.colab.files.view) {\n",
              "        for (const element of document.querySelectorAll('.filepath')) {\n",
              "          element.style.display = 'block'\n",
              "          element.onclick = (event) => {\n",
              "            event.preventDefault();\n",
              "            event.stopPropagation();\n",
              "            google.colab.files.view(element.textContent, 3466);\n",
              "          };\n",
              "        }\n",
              "      }\n",
              "      for (const element of document.querySelectorAll('.function-repr-contents')) {\n",
              "        element.onclick = (event) => {\n",
              "          event.preventDefault();\n",
              "          event.stopPropagation();\n",
              "          element.classList.toggle('function-repr-contents-collapsed');\n",
              "        };\n",
              "      }\n",
              "      </script>\n",
              "      </div>"
            ],
            "text/plain": [
              "<bound method Model.summary of <keras.src.engine.sequential.Sequential object at 0x7899f9906380>>"
            ]
          },
          "execution_count": 15,
          "metadata": {},
          "output_type": "execute_result"
        }
      ],
      "source": [
        "modelCNN.summary"
      ]
    },
    {
      "cell_type": "code",
      "execution_count": null,
      "metadata": {
        "id": "LNwG32WEOLGi"
      },
      "outputs": [],
      "source": [
        "'''\n",
        "# Divido los datos en set de training (80%) y testeo (20%)\n",
        "X_train, X_test, y_train, y_test = train_test_split(X, y_categorical, test_size=0.2, random_state=42)\n",
        "\n",
        "# Normalizo los datos\n",
        "scaler = StandardScaler()\n",
        "X_train_scaled = scaler.fit_transform(X_train)\n",
        "X_test_scaled = scaler.transform(X_test)\n",
        "'''"
      ]
    },
    {
      "cell_type": "code",
      "execution_count": null,
      "metadata": {
        "id": "hhZ51qqVLZIq"
      },
      "outputs": [],
      "source": [
        "def Crear_modelo(num_capas_ocultas, neuronas_por_capa, input_shape, num_clases):\n",
        "    model = models.Sequential()\n",
        "    model.add(layers.Dense(neuronas_por_capa, activation='relu', input_shape=input_shape)) #Capa de entraada\n",
        "    #Capas ocultas\n",
        "    for _ in range(num_capas_ocultas - 1):\n",
        "        model.add(layers.Dense(neuronas_por_capa, activation='relu'))\n",
        "    model.add(layers.Dense(num_clases, activation='softmax'))     #Capa de salida\n",
        "    return model"
      ]
    },
    {
      "cell_type": "code",
      "execution_count": null,
      "metadata": {
        "id": "nWUXquIDL4QY"
      },
      "outputs": [],
      "source": [
        "'''\n",
        "#Creacion del modelo\n",
        "num_capas_ocultas = 8\n",
        "neuronas_por_capa = 256\n",
        "input_shape = (X_train.shape[1],)\n",
        "num_clases = y_categorical.shape[1]\n",
        "modelo_2 = Crear_modelo(num_capas_ocultas, neuronas_por_capa, input_shape, num_clases)\n",
        "modelo_2.compile(optimizer='adam',loss='categorical_crossentropy',metrics=['accuracy'])\n",
        "modelo_2.summary()\n",
        "#Entrenamiento (Esta vez disminuimos el numero de epocas y aumentamos el batch para reducir la posibilidad de overfitting)\n",
        "modelo_2_trained = modelo_2.fit(X_train_scaled, y_train, epochs=20, batch_size=32, validation_split=0.2)\n",
        "#Evaluacion del modelo\n",
        "test_loss, test_acc = modelo_2.evaluate(X_test_scaled, y_test)\n",
        "print(f'Test accuracy: {test_acc}')\n",
        "'''\n"
      ]
    }
  ],
  "metadata": {
    "accelerator": "GPU",
    "colab": {
      "gpuType": "T4",
      "provenance": []
    },
    "kernelspec": {
      "display_name": "Python 3",
      "name": "python3"
    },
    "language_info": {
      "codemirror_mode": {
        "name": "ipython",
        "version": 3
      },
      "file_extension": ".py",
      "mimetype": "text/x-python",
      "name": "python",
      "nbconvert_exporter": "python",
      "pygments_lexer": "ipython3",
      "version": "3.11.4"
    }
  },
  "nbformat": 4,
  "nbformat_minor": 0
}
